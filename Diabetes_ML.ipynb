{
 "cells": [
  {
   "cell_type": "markdown",
   "id": "fcbb342d-9eff-44d4-a551-12e5b753dbf7",
   "metadata": {},
   "source": [
    "<header>\n",
    "<h1 style=\"text-align: center;\">Modelos de machine learning a una base de datos sobre diabetes<h1/>\n",
    "<p style=\"text-align: center;\"><img  src=\"descarga.jpeg\" alt=\"description\" width=600\" height=\"100\" />\n",
    "</p>\n",
    "\n",
    "<h2>Autores</h2>\n",
    "    <p>Julio Torres.</p>\n",
    "</header>"
   ]
  },
  {
   "cell_type": "code",
   "execution_count": 1,
   "id": "15bed0a1-020d-4ddf-92e8-488f509186f5",
   "metadata": {},
   "outputs": [],
   "source": [
    "import pandas as pd\n",
    "import numpy as np\n",
    "import plotly.express as px"
   ]
  },
  {
   "cell_type": "code",
   "execution_count": 3,
   "id": "e13980dc-c764-4931-8860-9132971d0f2a",
   "metadata": {},
   "outputs": [],
   "source": [
    "url='/home/julio/jupyter_files/diabete/Diabetes/diabetes.csv'\n",
    "df=pd.read_csv(url)"
   ]
  },
  {
   "cell_type": "markdown",
   "id": "e4c43ec3-1c5e-4cb5-959f-4caabfb1d375",
   "metadata": {},
   "source": [
    "<H2>Nombre de las columnas<H2/>\n",
    "    \n",
    "<p style=\"margin: 0; line-height: 1.2; font-size: 10px;\">Pregnancies --> Number of times pregnant</p>\n",
    "<p style=\"margin: 0; line-height: 1.2; font-size: 10px\">Glucose --> Plasma glucose concentration a 2 hours in an oral glucose tolerance test</p>\n",
    "<p style=\"margin: 0; line-height: 1.2; font-size: 10px\" >BloodPressure --> Diastolic blood pressure (mm Hg)</p>\n",
    "<p style=\"margin: 0; line-height: 1.2; font-size: 10px\">SkinThickness --> Triceps skin fold thickness (mm)</p>\n",
    "<p style=\"margin: 0; line-height: 1.2; font-size: 10px\"> Insulin--> 2-Hour serum insulin (mu U/ml)</p>\n",
    "<p style=\"margin: 0; line-height: 1.2; font-size: 10px\"> BMI --> Body mass index (weight in kg/(height in m)^2) </p>\n",
    "<p style=\"margin: 0; line-height: 1.2; font-size: 10px\">DiabetesPedigreeFunction -->\n",
    "Diabetes pedigree function </p>\n",
    "<p style=\"margin: 0; line-height: 1.2; font-size: 10px\">Age --> Age (years)</p>\n",
    "<p style=\"margin: 0; line-height: 1.2; font-size: 10px\">Outcome -->Class variable (0 or 1) 268 of 768 are 1, the others are 0 </p>"
   ]
  },
  {
   "cell_type": "code",
   "execution_count": 4,
   "id": "bcde28ef-3168-486b-8973-9c406edb820b",
   "metadata": {},
   "outputs": [
    {
     "data": {
      "text/plain": [
       "(768, 9)"
      ]
     },
     "execution_count": 4,
     "metadata": {},
     "output_type": "execute_result"
    }
   ],
   "source": [
    "df.shape"
   ]
  },
  {
   "cell_type": "code",
   "execution_count": 5,
   "id": "bf010ba8-98c9-4911-89dd-b730cbba5ac1",
   "metadata": {},
   "outputs": [
    {
     "name": "stdout",
     "output_type": "stream",
     "text": [
      "<class 'pandas.core.frame.DataFrame'>\n",
      "RangeIndex: 768 entries, 0 to 767\n",
      "Data columns (total 9 columns):\n",
      " #   Column                    Non-Null Count  Dtype  \n",
      "---  ------                    --------------  -----  \n",
      " 0   Pregnancies               768 non-null    int64  \n",
      " 1   Glucose                   768 non-null    int64  \n",
      " 2   BloodPressure             768 non-null    int64  \n",
      " 3   SkinThickness             768 non-null    int64  \n",
      " 4   Insulin                   768 non-null    int64  \n",
      " 5   BMI                       768 non-null    float64\n",
      " 6   DiabetesPedigreeFunction  768 non-null    float64\n",
      " 7   Age                       768 non-null    int64  \n",
      " 8   Outcome                   768 non-null    int64  \n",
      "dtypes: float64(2), int64(7)\n",
      "memory usage: 54.1 KB\n"
     ]
    }
   ],
   "source": [
    "df.info()"
   ]
  },
  {
   "cell_type": "code",
   "execution_count": 6,
   "id": "016d51e5-eb78-4eca-b5bf-b9cc3c9dfece",
   "metadata": {},
   "outputs": [
    {
     "name": "stdout",
     "output_type": "stream",
     "text": [
      "Pregnancies                 0.0\n",
      "Glucose                     0.0\n",
      "BloodPressure               0.0\n",
      "SkinThickness               0.0\n",
      "Insulin                     0.0\n",
      "BMI                         0.0\n",
      "DiabetesPedigreeFunction    0.0\n",
      "Age                         0.0\n",
      "Outcome                     0.0\n",
      "dtype: float64\n"
     ]
    }
   ],
   "source": [
    "# Calculamos el porcentaje de valores nulos por columna\n",
    "null_percentage = df.isnull().mean() * 100\n",
    "# Mostrar el resultado\n",
    "print(null_percentage)"
   ]
  },
  {
   "cell_type": "markdown",
   "id": "2d357366-fdcb-4972-bfb0-753d24f04496",
   "metadata": {},
   "source": [
    "<H2>Modelos de Machine learning</H2>"
   ]
  },
  {
   "cell_type": "markdown",
   "id": "06b7fa17-3dcd-429a-a590-1892ba9997c2",
   "metadata": {},
   "source": [
    "<h3>Random Forest</h3>"
   ]
  },
  {
   "cell_type": "markdown",
   "id": "bd4beff2-6a93-433e-9723-9c57739d6bce",
   "metadata": {},
   "source": [
    "**Random Forest** es un algoritmo de aprendizaje automático que crea un conjunto de árboles de decisión (un \"bosque\") y combina sus resultados para hacer predicciones. Cada árbol se entrena con una muestra aleatoria del conjunto de datos y utiliza un subconjunto aleatorio de características en cada división. El resultado final se obtiene promediando las predicciones de todos los árboles (en problemas de regresión) o tomando la mayoría de las votaciones (en problemas de clasificación).\n",
    "\n",
    "**¿Por Qué Usar Random Forest en Este Proyecto?**\n",
    "\n",
    "- **Robustez**: Random Forest es menos propenso al sobreajuste en comparación con un solo árbol de decisión, ya que combina múltiples árboles que mitigarán errores individuales.\n",
    "- **Manejo de Datos Desequilibrados**: Puede manejar desequilibrios en las clases de manera efectiva, lo cual es útil si tienes datos desbalanceados.\n",
    "- **Importancia de Características**: Proporciona una medida de la importancia de las características, lo que puede ayudarte a entender qué variables son más relevantes para las predicciones.\n",
    "- **Versatilidad**: Funciona bien con datos tanto numéricos como categóricos y no requiere una gran cantidad de ajuste de hiperparámetros."
   ]
  },
  {
   "cell_type": "markdown",
   "id": "8aa06efc-442b-4191-a50b-8e2de46677c9",
   "metadata": {},
   "source": [
    "**Importamos las librerías**"
   ]
  },
  {
   "cell_type": "code",
   "execution_count": 7,
   "id": "c1aea462-0d44-4cda-804d-a46d6773b01b",
   "metadata": {},
   "outputs": [],
   "source": [
    "from sklearn.model_selection import train_test_split\n",
    "from imblearn.over_sampling import SMOTE\n",
    "import imblearn\n",
    "from sklearn.preprocessing import StandardScaler\n",
    "from sklearn.decomposition import PCA\n",
    "from sklearn.ensemble import RandomForestClassifier\n",
    "from sklearn.pipeline import Pipeline\n",
    "from sklearn.model_selection import GridSearchCV\n",
    "from sklearn.metrics import accuracy_score, classification_report\n",
    "from sklearn.model_selection import cross_val_score\n",
    "import joblib"
   ]
  },
  {
   "cell_type": "markdown",
   "id": "e018a1f0-b65a-4428-a762-a01c9c7bbae8",
   "metadata": {},
   "source": [
    "**Importamos el dataframe**"
   ]
  },
  {
   "cell_type": "code",
   "execution_count": 9,
   "id": "9728e39d-4a21-46f7-b0da-50c5474be25e",
   "metadata": {},
   "outputs": [],
   "source": [
    "url='/home/julio/jupyter_files/diabete/Diabetes/diabetes.csv'\n",
    "df1=pd.read_csv(url)"
   ]
  },
  {
   "cell_type": "markdown",
   "id": "64cadf5e-aeb5-4a04-bb33-874967a778c8",
   "metadata": {},
   "source": [
    "<P> Preparar los datos para el entrenamiento de un modelo de Machine Learning.X contiene las variables que se usan para predecir y y contiene la variable que el modelo debe predecir. Este paso es crucial para separar los datos en características y etiquetas antes de entrenar el modelo. </P>"
   ]
  },
  {
   "cell_type": "code",
   "execution_count": 10,
   "id": "defeaea2-a11a-4277-80e2-2cb93a0f9c63",
   "metadata": {},
   "outputs": [],
   "source": [
    "X = df1.drop('Outcome', axis=1)\n",
    "y = df1['Outcome']"
   ]
  },
  {
   "cell_type": "markdown",
   "id": "05e0fed7-829f-4f6a-bc77-9543742bfc34",
   "metadata": {},
   "source": [
    "**Dividir los datos** \n",
    "    \n",
    "Se entrena el modelo con X_train y y_train, y luego se prueba con X_test y y_test para ver cómo generaliza a datos que no ha visto antes."
   ]
  },
  {
   "cell_type": "code",
   "execution_count": 11,
   "id": "fd030488-0678-4d26-a0e9-cc71b15f725e",
   "metadata": {},
   "outputs": [],
   "source": [
    "# Dividir los datos en entrenamiento (80%) y prueba (20%)\n",
    "X_train, X_test, y_train, y_test = train_test_split(X, y, test_size=0.2, random_state=42)"
   ]
  },
  {
   "cell_type": "markdown",
   "id": "54f4a14a-c4b7-4b3f-9905-17f7adbbaebd",
   "metadata": {},
   "source": [
    "**Aplicación de SMOTE para Manejar el Desbalance de Clases**\n",
    "\n",
    "Este paso utiliza la técnica SMOTE (Synthetic Minority Over-sampling Technique) para generar muestras sintéticas de la clase minoritaria en un conjunto de datos desbalanceado, con el fin de equilibrar el número de ejemplos entre las clases. Esto ayuda a mejorar la capacidad del modelo para aprender de manera justa y generalizar mejor."
   ]
  },
  {
   "cell_type": "code",
   "execution_count": 12,
   "id": "08b68e4c-3b6c-4b5a-a83a-7cabfa928e8d",
   "metadata": {},
   "outputs": [],
   "source": [
    "smote = SMOTE(random_state=42)\n",
    "X_train_resampled, y_train_resampled = smote.fit_resample(X_train, y_train)"
   ]
  },
  {
   "cell_type": "markdown",
   "id": "b69bcb60-2c8a-4b5e-8301-e7b4113e80b1",
   "metadata": {},
   "source": [
    "**Creación de un Pipeline con Estandarización, Reducción de Dimensionalidad y Modelo Random Forest.**\n",
    "\n",
    "Este paso crea un pipeline que incluye tres etapas de procesamiento y modelado:\n",
    "\n",
    "**Estandarización:** StandardScaler estandariza las características para que tengan media cero y desviación estándar uno, asegurando que todas las características tengan el mismo rango.\n",
    "\n",
    "**Reducción de Dimensionalidad:** PCA (Principal Component Analysis) reduce el número de dimensiones del conjunto de datos manteniendo el 95% de la varianza explicada, lo que ayuda a simplificar el modelo y a mejorar la eficiencia.\n",
    "\n",
    "**Modelo Random Forest:** RandomForestClassifier es el modelo que se entrenará con los datos preprocesados. Este modelo se usa para la clasificación y se inicializa con una semilla para asegurar reproducibilidad.\n",
    "\n",
    "Este pipeline asegura que los datos sean estandarizados y reducidos dimensionalmente antes de ser alimentados al modelo Random Forest."
   ]
  },
  {
   "cell_type": "code",
   "execution_count": 13,
   "id": "fb177548-9fbe-4967-8608-b215be0a9dbd",
   "metadata": {},
   "outputs": [],
   "source": [
    "pipeline = Pipeline([\n",
    "    ('scaler', StandardScaler()),  # Estandarizar características\n",
    "    ('pca', PCA(n_components=0.95)),  # Mantener el 95% de la varianza explicada\n",
    "    ('rf', RandomForestClassifier(random_state=42))  # Modelo Random Forest\n",
    "])"
   ]
  },
  {
   "cell_type": "markdown",
   "id": "90d197dc-c9fb-4d41-833e-46c32b1401ed",
   "metadata": {},
   "source": [
    "**Configuración de Grid Search para la Optimización de Hiperparámetros.**\n",
    "\n",
    "Este paso configura un proceso de Grid Search para encontrar los mejores hiperparámetros para el modelo Random Forest dentro del pipeline:"
   ]
  },
  {
   "cell_type": "markdown",
   "id": "7f7c3fb0-d1b9-48b0-8d31-6654333d16ee",
   "metadata": {},
   "source": [
    "<p>\n",
    "    Definir el Espacio de Búsqueda:param_grid-> Es un diccionario que especifica los hiperparámetros que se deben ajustar para el modelo RandomForestClassifier (rf) dentro del pipeline. Cada clave en el diccionario corresponde a un hiperparámetro y sus posibles valores a probar.\n",
    "</p>"
   ]
  },
  {
   "cell_type": "markdown",
   "id": "f555d6f2-813e-4a52-bea7-4a71f25ec5b5",
   "metadata": {
    "jp-MarkdownHeadingCollapsed": true
   },
   "source": [
    "- **`rf__n_estimators`**:\n",
    "  - **Descripción**: Número de árboles en el bosque.\n",
    "  - **Valores**: `[50, 100, 200]`\n",
    "    - `50`: Número de árboles en el bosque (pequeño).\n",
    "    - `100`: Número de árboles en el bosque (moderado).\n",
    "    - `200`: Número de árboles en el bosque (grande).\n",
    "\n",
    "- **`rf__max_depth`**:\n",
    "  - **Descripción**: Profundidad máxima de cada árbol en el bosque.\n",
    "  - **Valores**: `[None, 10, 20, 30]`\n",
    "    - `None`: Los árboles crecen hasta que todas las hojas son puras o hasta que contienen menos de `min_samples_split` muestras.\n",
    "    - `10`: Profundidad máxima de 10 niveles.\n",
    "    - `20`: Profundidad máxima de 20 niveles.\n",
    "    - `30`: Profundidad máxima de 30 niveles.\n",
    "\n",
    "- **`rf__min_samples_split`**:\n",
    "  - **Descripción**: Número mínimo de muestras necesarias para dividir un nodo.\n",
    "  - **Valores**: `[2, 5, 10]`\n",
    "    - `2`: Se necesita al menos 2 muestras para dividir un nodo.\n",
    "    - `5`: Se necesita al menos 5 muestras para dividir un nodo.\n",
    "    - `10`: Se necesita al menos 10 muestras para dividir un nodo.\n",
    "\n",
    "- **`rf__min_samples_leaf`**:\n",
    "  - **Descripción**: Número mínimo de muestras necesarias para estar en una hoja.\n",
    "  - **Valores**: `[1, 2, 4]`\n",
    "    - `1`: Cada hoja puede contener solo 1 muestra.\n",
    "    - `2`: Cada hoja debe contener al menos 2 muestras.\n",
    "    - `4`: Cada hoja debe contener al menos 4 muestras.\n"
   ]
  },
  {
   "cell_type": "code",
   "execution_count": 14,
   "id": "1f10313b-c1da-4631-99a1-8f5b473adf5c",
   "metadata": {},
   "outputs": [],
   "source": [
    "# Definir el espacio de búsqueda para Grid Search\n",
    "param_grid = {\n",
    "    'rf__n_estimators': [50, 100, 200],\n",
    "    'rf__max_depth': [None, 10, 20, 30],\n",
    "    'rf__min_samples_split': [2, 5, 10],\n",
    "    'rf__min_samples_leaf': [1, 2, 4]\n",
    "}"
   ]
  },
  {
   "cell_type": "markdown",
   "id": "609f44c1-832b-4296-96e3-d9b0e1c25819",
   "metadata": {},
   "source": [
    " **Configurar Grid Search**\n",
    "\n",
    "Este paso configura el proceso de Grid Search para encontrar la mejor combinación de hiperparámetros para el modelo dentro del pipeline. A continuación se explica cada parámetro de la configuración:\n",
    "\n",
    "- **`grid_search`**:\n",
    "  - **Descripción**: Un objeto de `GridSearchCV` que realiza una búsqueda exhaustiva sobre un conjunto de hiperparámetros para optimizar el rendimiento del modelo.\n",
    "\n",
    "  ```python\n",
    "  grid_search = GridSearchCV(pipeline, param_grid, cv=5, n_jobs=-1, verbose=1)"
   ]
  },
  {
   "cell_type": "code",
   "execution_count": 15,
   "id": "089b8de5-aeba-43c3-aac0-f985f641cf58",
   "metadata": {},
   "outputs": [],
   "source": [
    "# Configurar Grid Search\n",
    "grid_search = GridSearchCV(pipeline, param_grid, cv=5, n_jobs=-1, verbose=1)"
   ]
  },
  {
   "cell_type": "markdown",
   "id": "3f93c942-ac64-46ca-a734-5fd1320710fd",
   "metadata": {},
   "source": [
    "**Entrenar el Modelo con Grid Search**\n",
    "\n",
    "Este paso ajusta el modelo utilizando el proceso de Grid Search para encontrar la mejor combinación de hiperparámetros. Aquí está el detalle de cada componente:\n",
    "\n",
    "- **`grid_search.fit(X_train_resampled, y_train_resampled)`**:\n",
    "  - **Descripción**: El método `fit` de `GridSearchCV` se utiliza para entrenar el modelo con todas las combinaciones de hiperparámetros especificadas en el `param_grid`, utilizando los datos de entrenamiento.\n",
    "\n",
    "  - **`X_train_resampled`**:\n",
    "    - **Descripción**: El DataFrame de características de entrenamiento después de aplicar SMOTE para manejar el desbalance de clases. Contiene tanto las características originales como las sintéticas generadas.\n",
    "\n",
    "  - **`y_train_resampled`**:\n",
    "    - **Descripción**: La Serie de etiquetas de entrenamiento después de aplicar SMOTE. Contiene tanto las etiquetas originales como las sintéticas generadas.\n",
    "\n",
    "  - **Proceso**:\n",
    "    - El `GridSearchCV` entrena el pipeline con cada combinación de hiperparámetros en el `param_grid`.\n",
    "    - Utiliza validación cruzada para evaluar el rendimiento de cada combinación de hiperparámetros.\n",
    "    - Selecciona la combinación de hiperparámetros que maximiza el rendimiento del modelo.\n",
    "\n",
    "Este paso asegura que el modelo sea entrenado con las mejores configuraciones de hiperparámetros, basándose en el rendimiento observado durante el proceso de validación cruzada.\n"
   ]
  },
  {
   "cell_type": "code",
   "execution_count": 16,
   "id": "5c9e28e0-d99b-4b7c-8b81-9c0ca7059796",
   "metadata": {},
   "outputs": [
    {
     "name": "stdout",
     "output_type": "stream",
     "text": [
      "Fitting 5 folds for each of 108 candidates, totalling 540 fits\n"
     ]
    },
    {
     "data": {
      "text/html": [
       "<style>#sk-container-id-1 {\n",
       "  /* Definition of color scheme common for light and dark mode */\n",
       "  --sklearn-color-text: black;\n",
       "  --sklearn-color-line: gray;\n",
       "  /* Definition of color scheme for unfitted estimators */\n",
       "  --sklearn-color-unfitted-level-0: #fff5e6;\n",
       "  --sklearn-color-unfitted-level-1: #f6e4d2;\n",
       "  --sklearn-color-unfitted-level-2: #ffe0b3;\n",
       "  --sklearn-color-unfitted-level-3: chocolate;\n",
       "  /* Definition of color scheme for fitted estimators */\n",
       "  --sklearn-color-fitted-level-0: #f0f8ff;\n",
       "  --sklearn-color-fitted-level-1: #d4ebff;\n",
       "  --sklearn-color-fitted-level-2: #b3dbfd;\n",
       "  --sklearn-color-fitted-level-3: cornflowerblue;\n",
       "\n",
       "  /* Specific color for light theme */\n",
       "  --sklearn-color-text-on-default-background: var(--sg-text-color, var(--theme-code-foreground, var(--jp-content-font-color1, black)));\n",
       "  --sklearn-color-background: var(--sg-background-color, var(--theme-background, var(--jp-layout-color0, white)));\n",
       "  --sklearn-color-border-box: var(--sg-text-color, var(--theme-code-foreground, var(--jp-content-font-color1, black)));\n",
       "  --sklearn-color-icon: #696969;\n",
       "\n",
       "  @media (prefers-color-scheme: dark) {\n",
       "    /* Redefinition of color scheme for dark theme */\n",
       "    --sklearn-color-text-on-default-background: var(--sg-text-color, var(--theme-code-foreground, var(--jp-content-font-color1, white)));\n",
       "    --sklearn-color-background: var(--sg-background-color, var(--theme-background, var(--jp-layout-color0, #111)));\n",
       "    --sklearn-color-border-box: var(--sg-text-color, var(--theme-code-foreground, var(--jp-content-font-color1, white)));\n",
       "    --sklearn-color-icon: #878787;\n",
       "  }\n",
       "}\n",
       "\n",
       "#sk-container-id-1 {\n",
       "  color: var(--sklearn-color-text);\n",
       "}\n",
       "\n",
       "#sk-container-id-1 pre {\n",
       "  padding: 0;\n",
       "}\n",
       "\n",
       "#sk-container-id-1 input.sk-hidden--visually {\n",
       "  border: 0;\n",
       "  clip: rect(1px 1px 1px 1px);\n",
       "  clip: rect(1px, 1px, 1px, 1px);\n",
       "  height: 1px;\n",
       "  margin: -1px;\n",
       "  overflow: hidden;\n",
       "  padding: 0;\n",
       "  position: absolute;\n",
       "  width: 1px;\n",
       "}\n",
       "\n",
       "#sk-container-id-1 div.sk-dashed-wrapped {\n",
       "  border: 1px dashed var(--sklearn-color-line);\n",
       "  margin: 0 0.4em 0.5em 0.4em;\n",
       "  box-sizing: border-box;\n",
       "  padding-bottom: 0.4em;\n",
       "  background-color: var(--sklearn-color-background);\n",
       "}\n",
       "\n",
       "#sk-container-id-1 div.sk-container {\n",
       "  /* jupyter's `normalize.less` sets `[hidden] { display: none; }`\n",
       "     but bootstrap.min.css set `[hidden] { display: none !important; }`\n",
       "     so we also need the `!important` here to be able to override the\n",
       "     default hidden behavior on the sphinx rendered scikit-learn.org.\n",
       "     See: https://github.com/scikit-learn/scikit-learn/issues/21755 */\n",
       "  display: inline-block !important;\n",
       "  position: relative;\n",
       "}\n",
       "\n",
       "#sk-container-id-1 div.sk-text-repr-fallback {\n",
       "  display: none;\n",
       "}\n",
       "\n",
       "div.sk-parallel-item,\n",
       "div.sk-serial,\n",
       "div.sk-item {\n",
       "  /* draw centered vertical line to link estimators */\n",
       "  background-image: linear-gradient(var(--sklearn-color-text-on-default-background), var(--sklearn-color-text-on-default-background));\n",
       "  background-size: 2px 100%;\n",
       "  background-repeat: no-repeat;\n",
       "  background-position: center center;\n",
       "}\n",
       "\n",
       "/* Parallel-specific style estimator block */\n",
       "\n",
       "#sk-container-id-1 div.sk-parallel-item::after {\n",
       "  content: \"\";\n",
       "  width: 100%;\n",
       "  border-bottom: 2px solid var(--sklearn-color-text-on-default-background);\n",
       "  flex-grow: 1;\n",
       "}\n",
       "\n",
       "#sk-container-id-1 div.sk-parallel {\n",
       "  display: flex;\n",
       "  align-items: stretch;\n",
       "  justify-content: center;\n",
       "  background-color: var(--sklearn-color-background);\n",
       "  position: relative;\n",
       "}\n",
       "\n",
       "#sk-container-id-1 div.sk-parallel-item {\n",
       "  display: flex;\n",
       "  flex-direction: column;\n",
       "}\n",
       "\n",
       "#sk-container-id-1 div.sk-parallel-item:first-child::after {\n",
       "  align-self: flex-end;\n",
       "  width: 50%;\n",
       "}\n",
       "\n",
       "#sk-container-id-1 div.sk-parallel-item:last-child::after {\n",
       "  align-self: flex-start;\n",
       "  width: 50%;\n",
       "}\n",
       "\n",
       "#sk-container-id-1 div.sk-parallel-item:only-child::after {\n",
       "  width: 0;\n",
       "}\n",
       "\n",
       "/* Serial-specific style estimator block */\n",
       "\n",
       "#sk-container-id-1 div.sk-serial {\n",
       "  display: flex;\n",
       "  flex-direction: column;\n",
       "  align-items: center;\n",
       "  background-color: var(--sklearn-color-background);\n",
       "  padding-right: 1em;\n",
       "  padding-left: 1em;\n",
       "}\n",
       "\n",
       "\n",
       "/* Toggleable style: style used for estimator/Pipeline/ColumnTransformer box that is\n",
       "clickable and can be expanded/collapsed.\n",
       "- Pipeline and ColumnTransformer use this feature and define the default style\n",
       "- Estimators will overwrite some part of the style using the `sk-estimator` class\n",
       "*/\n",
       "\n",
       "/* Pipeline and ColumnTransformer style (default) */\n",
       "\n",
       "#sk-container-id-1 div.sk-toggleable {\n",
       "  /* Default theme specific background. It is overwritten whether we have a\n",
       "  specific estimator or a Pipeline/ColumnTransformer */\n",
       "  background-color: var(--sklearn-color-background);\n",
       "}\n",
       "\n",
       "/* Toggleable label */\n",
       "#sk-container-id-1 label.sk-toggleable__label {\n",
       "  cursor: pointer;\n",
       "  display: block;\n",
       "  width: 100%;\n",
       "  margin-bottom: 0;\n",
       "  padding: 0.5em;\n",
       "  box-sizing: border-box;\n",
       "  text-align: center;\n",
       "}\n",
       "\n",
       "#sk-container-id-1 label.sk-toggleable__label-arrow:before {\n",
       "  /* Arrow on the left of the label */\n",
       "  content: \"▸\";\n",
       "  float: left;\n",
       "  margin-right: 0.25em;\n",
       "  color: var(--sklearn-color-icon);\n",
       "}\n",
       "\n",
       "#sk-container-id-1 label.sk-toggleable__label-arrow:hover:before {\n",
       "  color: var(--sklearn-color-text);\n",
       "}\n",
       "\n",
       "/* Toggleable content - dropdown */\n",
       "\n",
       "#sk-container-id-1 div.sk-toggleable__content {\n",
       "  max-height: 0;\n",
       "  max-width: 0;\n",
       "  overflow: hidden;\n",
       "  text-align: left;\n",
       "  /* unfitted */\n",
       "  background-color: var(--sklearn-color-unfitted-level-0);\n",
       "}\n",
       "\n",
       "#sk-container-id-1 div.sk-toggleable__content.fitted {\n",
       "  /* fitted */\n",
       "  background-color: var(--sklearn-color-fitted-level-0);\n",
       "}\n",
       "\n",
       "#sk-container-id-1 div.sk-toggleable__content pre {\n",
       "  margin: 0.2em;\n",
       "  border-radius: 0.25em;\n",
       "  color: var(--sklearn-color-text);\n",
       "  /* unfitted */\n",
       "  background-color: var(--sklearn-color-unfitted-level-0);\n",
       "}\n",
       "\n",
       "#sk-container-id-1 div.sk-toggleable__content.fitted pre {\n",
       "  /* unfitted */\n",
       "  background-color: var(--sklearn-color-fitted-level-0);\n",
       "}\n",
       "\n",
       "#sk-container-id-1 input.sk-toggleable__control:checked~div.sk-toggleable__content {\n",
       "  /* Expand drop-down */\n",
       "  max-height: 200px;\n",
       "  max-width: 100%;\n",
       "  overflow: auto;\n",
       "}\n",
       "\n",
       "#sk-container-id-1 input.sk-toggleable__control:checked~label.sk-toggleable__label-arrow:before {\n",
       "  content: \"▾\";\n",
       "}\n",
       "\n",
       "/* Pipeline/ColumnTransformer-specific style */\n",
       "\n",
       "#sk-container-id-1 div.sk-label input.sk-toggleable__control:checked~label.sk-toggleable__label {\n",
       "  color: var(--sklearn-color-text);\n",
       "  background-color: var(--sklearn-color-unfitted-level-2);\n",
       "}\n",
       "\n",
       "#sk-container-id-1 div.sk-label.fitted input.sk-toggleable__control:checked~label.sk-toggleable__label {\n",
       "  background-color: var(--sklearn-color-fitted-level-2);\n",
       "}\n",
       "\n",
       "/* Estimator-specific style */\n",
       "\n",
       "/* Colorize estimator box */\n",
       "#sk-container-id-1 div.sk-estimator input.sk-toggleable__control:checked~label.sk-toggleable__label {\n",
       "  /* unfitted */\n",
       "  background-color: var(--sklearn-color-unfitted-level-2);\n",
       "}\n",
       "\n",
       "#sk-container-id-1 div.sk-estimator.fitted input.sk-toggleable__control:checked~label.sk-toggleable__label {\n",
       "  /* fitted */\n",
       "  background-color: var(--sklearn-color-fitted-level-2);\n",
       "}\n",
       "\n",
       "#sk-container-id-1 div.sk-label label.sk-toggleable__label,\n",
       "#sk-container-id-1 div.sk-label label {\n",
       "  /* The background is the default theme color */\n",
       "  color: var(--sklearn-color-text-on-default-background);\n",
       "}\n",
       "\n",
       "/* On hover, darken the color of the background */\n",
       "#sk-container-id-1 div.sk-label:hover label.sk-toggleable__label {\n",
       "  color: var(--sklearn-color-text);\n",
       "  background-color: var(--sklearn-color-unfitted-level-2);\n",
       "}\n",
       "\n",
       "/* Label box, darken color on hover, fitted */\n",
       "#sk-container-id-1 div.sk-label.fitted:hover label.sk-toggleable__label.fitted {\n",
       "  color: var(--sklearn-color-text);\n",
       "  background-color: var(--sklearn-color-fitted-level-2);\n",
       "}\n",
       "\n",
       "/* Estimator label */\n",
       "\n",
       "#sk-container-id-1 div.sk-label label {\n",
       "  font-family: monospace;\n",
       "  font-weight: bold;\n",
       "  display: inline-block;\n",
       "  line-height: 1.2em;\n",
       "}\n",
       "\n",
       "#sk-container-id-1 div.sk-label-container {\n",
       "  text-align: center;\n",
       "}\n",
       "\n",
       "/* Estimator-specific */\n",
       "#sk-container-id-1 div.sk-estimator {\n",
       "  font-family: monospace;\n",
       "  border: 1px dotted var(--sklearn-color-border-box);\n",
       "  border-radius: 0.25em;\n",
       "  box-sizing: border-box;\n",
       "  margin-bottom: 0.5em;\n",
       "  /* unfitted */\n",
       "  background-color: var(--sklearn-color-unfitted-level-0);\n",
       "}\n",
       "\n",
       "#sk-container-id-1 div.sk-estimator.fitted {\n",
       "  /* fitted */\n",
       "  background-color: var(--sklearn-color-fitted-level-0);\n",
       "}\n",
       "\n",
       "/* on hover */\n",
       "#sk-container-id-1 div.sk-estimator:hover {\n",
       "  /* unfitted */\n",
       "  background-color: var(--sklearn-color-unfitted-level-2);\n",
       "}\n",
       "\n",
       "#sk-container-id-1 div.sk-estimator.fitted:hover {\n",
       "  /* fitted */\n",
       "  background-color: var(--sklearn-color-fitted-level-2);\n",
       "}\n",
       "\n",
       "/* Specification for estimator info (e.g. \"i\" and \"?\") */\n",
       "\n",
       "/* Common style for \"i\" and \"?\" */\n",
       "\n",
       ".sk-estimator-doc-link,\n",
       "a:link.sk-estimator-doc-link,\n",
       "a:visited.sk-estimator-doc-link {\n",
       "  float: right;\n",
       "  font-size: smaller;\n",
       "  line-height: 1em;\n",
       "  font-family: monospace;\n",
       "  background-color: var(--sklearn-color-background);\n",
       "  border-radius: 1em;\n",
       "  height: 1em;\n",
       "  width: 1em;\n",
       "  text-decoration: none !important;\n",
       "  margin-left: 1ex;\n",
       "  /* unfitted */\n",
       "  border: var(--sklearn-color-unfitted-level-1) 1pt solid;\n",
       "  color: var(--sklearn-color-unfitted-level-1);\n",
       "}\n",
       "\n",
       ".sk-estimator-doc-link.fitted,\n",
       "a:link.sk-estimator-doc-link.fitted,\n",
       "a:visited.sk-estimator-doc-link.fitted {\n",
       "  /* fitted */\n",
       "  border: var(--sklearn-color-fitted-level-1) 1pt solid;\n",
       "  color: var(--sklearn-color-fitted-level-1);\n",
       "}\n",
       "\n",
       "/* On hover */\n",
       "div.sk-estimator:hover .sk-estimator-doc-link:hover,\n",
       ".sk-estimator-doc-link:hover,\n",
       "div.sk-label-container:hover .sk-estimator-doc-link:hover,\n",
       ".sk-estimator-doc-link:hover {\n",
       "  /* unfitted */\n",
       "  background-color: var(--sklearn-color-unfitted-level-3);\n",
       "  color: var(--sklearn-color-background);\n",
       "  text-decoration: none;\n",
       "}\n",
       "\n",
       "div.sk-estimator.fitted:hover .sk-estimator-doc-link.fitted:hover,\n",
       ".sk-estimator-doc-link.fitted:hover,\n",
       "div.sk-label-container:hover .sk-estimator-doc-link.fitted:hover,\n",
       ".sk-estimator-doc-link.fitted:hover {\n",
       "  /* fitted */\n",
       "  background-color: var(--sklearn-color-fitted-level-3);\n",
       "  color: var(--sklearn-color-background);\n",
       "  text-decoration: none;\n",
       "}\n",
       "\n",
       "/* Span, style for the box shown on hovering the info icon */\n",
       ".sk-estimator-doc-link span {\n",
       "  display: none;\n",
       "  z-index: 9999;\n",
       "  position: relative;\n",
       "  font-weight: normal;\n",
       "  right: .2ex;\n",
       "  padding: .5ex;\n",
       "  margin: .5ex;\n",
       "  width: min-content;\n",
       "  min-width: 20ex;\n",
       "  max-width: 50ex;\n",
       "  color: var(--sklearn-color-text);\n",
       "  box-shadow: 2pt 2pt 4pt #999;\n",
       "  /* unfitted */\n",
       "  background: var(--sklearn-color-unfitted-level-0);\n",
       "  border: .5pt solid var(--sklearn-color-unfitted-level-3);\n",
       "}\n",
       "\n",
       ".sk-estimator-doc-link.fitted span {\n",
       "  /* fitted */\n",
       "  background: var(--sklearn-color-fitted-level-0);\n",
       "  border: var(--sklearn-color-fitted-level-3);\n",
       "}\n",
       "\n",
       ".sk-estimator-doc-link:hover span {\n",
       "  display: block;\n",
       "}\n",
       "\n",
       "/* \"?\"-specific style due to the `<a>` HTML tag */\n",
       "\n",
       "#sk-container-id-1 a.estimator_doc_link {\n",
       "  float: right;\n",
       "  font-size: 1rem;\n",
       "  line-height: 1em;\n",
       "  font-family: monospace;\n",
       "  background-color: var(--sklearn-color-background);\n",
       "  border-radius: 1rem;\n",
       "  height: 1rem;\n",
       "  width: 1rem;\n",
       "  text-decoration: none;\n",
       "  /* unfitted */\n",
       "  color: var(--sklearn-color-unfitted-level-1);\n",
       "  border: var(--sklearn-color-unfitted-level-1) 1pt solid;\n",
       "}\n",
       "\n",
       "#sk-container-id-1 a.estimator_doc_link.fitted {\n",
       "  /* fitted */\n",
       "  border: var(--sklearn-color-fitted-level-1) 1pt solid;\n",
       "  color: var(--sklearn-color-fitted-level-1);\n",
       "}\n",
       "\n",
       "/* On hover */\n",
       "#sk-container-id-1 a.estimator_doc_link:hover {\n",
       "  /* unfitted */\n",
       "  background-color: var(--sklearn-color-unfitted-level-3);\n",
       "  color: var(--sklearn-color-background);\n",
       "  text-decoration: none;\n",
       "}\n",
       "\n",
       "#sk-container-id-1 a.estimator_doc_link.fitted:hover {\n",
       "  /* fitted */\n",
       "  background-color: var(--sklearn-color-fitted-level-3);\n",
       "}\n",
       "</style><div id=\"sk-container-id-1\" class=\"sk-top-container\"><div class=\"sk-text-repr-fallback\"><pre>GridSearchCV(cv=5,\n",
       "             estimator=Pipeline(steps=[(&#x27;scaler&#x27;, StandardScaler()),\n",
       "                                       (&#x27;pca&#x27;, PCA(n_components=0.95)),\n",
       "                                       (&#x27;rf&#x27;,\n",
       "                                        RandomForestClassifier(random_state=42))]),\n",
       "             n_jobs=-1,\n",
       "             param_grid={&#x27;rf__max_depth&#x27;: [None, 10, 20, 30],\n",
       "                         &#x27;rf__min_samples_leaf&#x27;: [1, 2, 4],\n",
       "                         &#x27;rf__min_samples_split&#x27;: [2, 5, 10],\n",
       "                         &#x27;rf__n_estimators&#x27;: [50, 100, 200]},\n",
       "             verbose=1)</pre><b>In a Jupyter environment, please rerun this cell to show the HTML representation or trust the notebook. <br />On GitHub, the HTML representation is unable to render, please try loading this page with nbviewer.org.</b></div><div class=\"sk-container\" hidden><div class=\"sk-item sk-dashed-wrapped\"><div class=\"sk-label-container\"><div class=\"sk-label fitted sk-toggleable\"><input class=\"sk-toggleable__control sk-hidden--visually\" id=\"sk-estimator-id-1\" type=\"checkbox\" ><label for=\"sk-estimator-id-1\" class=\"sk-toggleable__label fitted sk-toggleable__label-arrow fitted\">&nbsp;&nbsp;GridSearchCV<a class=\"sk-estimator-doc-link fitted\" rel=\"noreferrer\" target=\"_blank\" href=\"https://scikit-learn.org/1.4/modules/generated/sklearn.model_selection.GridSearchCV.html\">?<span>Documentation for GridSearchCV</span></a><span class=\"sk-estimator-doc-link fitted\">i<span>Fitted</span></span></label><div class=\"sk-toggleable__content fitted\"><pre>GridSearchCV(cv=5,\n",
       "             estimator=Pipeline(steps=[(&#x27;scaler&#x27;, StandardScaler()),\n",
       "                                       (&#x27;pca&#x27;, PCA(n_components=0.95)),\n",
       "                                       (&#x27;rf&#x27;,\n",
       "                                        RandomForestClassifier(random_state=42))]),\n",
       "             n_jobs=-1,\n",
       "             param_grid={&#x27;rf__max_depth&#x27;: [None, 10, 20, 30],\n",
       "                         &#x27;rf__min_samples_leaf&#x27;: [1, 2, 4],\n",
       "                         &#x27;rf__min_samples_split&#x27;: [2, 5, 10],\n",
       "                         &#x27;rf__n_estimators&#x27;: [50, 100, 200]},\n",
       "             verbose=1)</pre></div> </div></div><div class=\"sk-parallel\"><div class=\"sk-parallel-item\"><div class=\"sk-item\"><div class=\"sk-label-container\"><div class=\"sk-label fitted sk-toggleable\"><input class=\"sk-toggleable__control sk-hidden--visually\" id=\"sk-estimator-id-2\" type=\"checkbox\" ><label for=\"sk-estimator-id-2\" class=\"sk-toggleable__label fitted sk-toggleable__label-arrow fitted\">estimator: Pipeline</label><div class=\"sk-toggleable__content fitted\"><pre>Pipeline(steps=[(&#x27;scaler&#x27;, StandardScaler()), (&#x27;pca&#x27;, PCA(n_components=0.95)),\n",
       "                (&#x27;rf&#x27;, RandomForestClassifier(random_state=42))])</pre></div> </div></div><div class=\"sk-serial\"><div class=\"sk-item\"><div class=\"sk-serial\"><div class=\"sk-item\"><div class=\"sk-estimator fitted sk-toggleable\"><input class=\"sk-toggleable__control sk-hidden--visually\" id=\"sk-estimator-id-3\" type=\"checkbox\" ><label for=\"sk-estimator-id-3\" class=\"sk-toggleable__label fitted sk-toggleable__label-arrow fitted\">&nbsp;StandardScaler<a class=\"sk-estimator-doc-link fitted\" rel=\"noreferrer\" target=\"_blank\" href=\"https://scikit-learn.org/1.4/modules/generated/sklearn.preprocessing.StandardScaler.html\">?<span>Documentation for StandardScaler</span></a></label><div class=\"sk-toggleable__content fitted\"><pre>StandardScaler()</pre></div> </div></div><div class=\"sk-item\"><div class=\"sk-estimator fitted sk-toggleable\"><input class=\"sk-toggleable__control sk-hidden--visually\" id=\"sk-estimator-id-4\" type=\"checkbox\" ><label for=\"sk-estimator-id-4\" class=\"sk-toggleable__label fitted sk-toggleable__label-arrow fitted\">&nbsp;PCA<a class=\"sk-estimator-doc-link fitted\" rel=\"noreferrer\" target=\"_blank\" href=\"https://scikit-learn.org/1.4/modules/generated/sklearn.decomposition.PCA.html\">?<span>Documentation for PCA</span></a></label><div class=\"sk-toggleable__content fitted\"><pre>PCA(n_components=0.95)</pre></div> </div></div><div class=\"sk-item\"><div class=\"sk-estimator fitted sk-toggleable\"><input class=\"sk-toggleable__control sk-hidden--visually\" id=\"sk-estimator-id-5\" type=\"checkbox\" ><label for=\"sk-estimator-id-5\" class=\"sk-toggleable__label fitted sk-toggleable__label-arrow fitted\">&nbsp;RandomForestClassifier<a class=\"sk-estimator-doc-link fitted\" rel=\"noreferrer\" target=\"_blank\" href=\"https://scikit-learn.org/1.4/modules/generated/sklearn.ensemble.RandomForestClassifier.html\">?<span>Documentation for RandomForestClassifier</span></a></label><div class=\"sk-toggleable__content fitted\"><pre>RandomForestClassifier(random_state=42)</pre></div> </div></div></div></div></div></div></div></div></div></div></div>"
      ],
      "text/plain": [
       "GridSearchCV(cv=5,\n",
       "             estimator=Pipeline(steps=[('scaler', StandardScaler()),\n",
       "                                       ('pca', PCA(n_components=0.95)),\n",
       "                                       ('rf',\n",
       "                                        RandomForestClassifier(random_state=42))]),\n",
       "             n_jobs=-1,\n",
       "             param_grid={'rf__max_depth': [None, 10, 20, 30],\n",
       "                         'rf__min_samples_leaf': [1, 2, 4],\n",
       "                         'rf__min_samples_split': [2, 5, 10],\n",
       "                         'rf__n_estimators': [50, 100, 200]},\n",
       "             verbose=1)"
      ]
     },
     "execution_count": 16,
     "metadata": {},
     "output_type": "execute_result"
    }
   ],
   "source": [
    "# Entrenar el modelo con Grid Search\n",
    "grid_search.fit(X_train_resampled, y_train_resampled)"
   ]
  },
  {
   "cell_type": "markdown",
   "id": "0a4f894e-024c-4b5e-a2f6-69f3927a10d6",
   "metadata": {},
   "source": [
    "**Imprimir los Mejores Parámetros Encontrados**\n",
    "\n",
    "Este paso muestra los hiperparámetros que han resultado ser los mejores durante el proceso de Grid Search. Aquí está el detalle:"
   ]
  },
  {
   "cell_type": "code",
   "execution_count": 17,
   "id": "1fd67ab6-9cc1-4435-88a9-ae9c42a92971",
   "metadata": {},
   "outputs": [
    {
     "name": "stdout",
     "output_type": "stream",
     "text": [
      "Mejores parámetros encontrados:\n",
      " {'rf__max_depth': 10, 'rf__min_samples_leaf': 1, 'rf__min_samples_split': 5, 'rf__n_estimators': 50}\n"
     ]
    }
   ],
   "source": [
    "# Imprimir los mejores parámetros encontrados\n",
    "print(\"Mejores parámetros encontrados:\\n\", grid_search.best_params_)"
   ]
  },
  {
   "cell_type": "markdown",
   "id": "c4a47203-3d44-41f8-9b57-c770e20e9e89",
   "metadata": {},
   "source": [
    "**Hacer Predicciones en el Conjunto de Prueba**\n",
    "\n",
    "Este paso utiliza el modelo entrenado para hacer predicciones sobre los datos de prueba. Aquí está el detalle:"
   ]
  },
  {
   "cell_type": "code",
   "execution_count": 18,
   "id": "73cbb40e-d5a5-4ca1-8b40-41a5a161efc2",
   "metadata": {},
   "outputs": [],
   "source": [
    "y_pred = grid_search.predict(X_test)"
   ]
  },
  {
   "cell_type": "markdown",
   "id": "4bbfc400-6c57-40c2-92b7-7460f398cc29",
   "metadata": {},
   "source": [
    "**Importar Métricas de Evaluación**\n",
    "\n",
    "Este paso importa las métricas necesarias para evaluar el rendimiento del modelo. Aquí está el detalle:\n",
    "\n",
    "  - **`accuracy_score`**:\n",
    "    - **Descripción**: Función que calcula la **precisión** del modelo, que es la proporción de predicciones correctas sobre el total de predicciones realizadas.\n",
    "    - **Uso**: Se utiliza para evaluar qué tan bien el modelo clasifica correctamente los ejemplos en el conjunto de prueba.\n",
    "\n",
    "  - **`classification_report`**:\n",
    "    - **Descripción**: Función que genera un informe detallado sobre la precisión, recuperación (recall) y puntuación F1 del modelo para cada clase en el conjunto de datos.\n",
    "    - **Uso**: Proporciona un análisis más completo del rendimiento del modelo, incluyendo métricas adicionales además de la precisión.\n",
    "\n",
    "Estas métricas ayudan a evaluar y entender el desempeño del modelo, permitiendo identificar áreas donde el modelo puede mejorar y proporcionar una visión más completa de cómo se comporta en diferentes clases.\n"
   ]
  },
  {
   "cell_type": "code",
   "execution_count": 19,
   "id": "d7af26c4-3f41-4763-98b9-004488ff1448",
   "metadata": {},
   "outputs": [
    {
     "name": "stdout",
     "output_type": "stream",
     "text": [
      "Accuracy: 0.7012987012987013\n"
     ]
    }
   ],
   "source": [
    "print(\"Accuracy:\", accuracy_score(y_test, y_pred))\n",
    "RF_accuracy=accuracy_score(y_test, y_pred)"
   ]
  },
  {
   "cell_type": "code",
   "execution_count": 20,
   "id": "e6e0b7d5-a7d4-40d2-ba6d-77f2a8e3987d",
   "metadata": {},
   "outputs": [
    {
     "name": "stdout",
     "output_type": "stream",
     "text": [
      "Classification Report:\n",
      "               precision    recall  f1-score   support\n",
      "\n",
      "           0       0.81      0.70      0.75        99\n",
      "           1       0.57      0.71      0.63        55\n",
      "\n",
      "    accuracy                           0.70       154\n",
      "   macro avg       0.69      0.70      0.69       154\n",
      "weighted avg       0.72      0.70      0.71       154\n",
      "\n"
     ]
    }
   ],
   "source": [
    "print(\"Classification Report:\\n\", classification_report(y_test, y_pred))"
   ]
  },
  {
   "cell_type": "markdown",
   "id": "406a73e2-a595-4996-b55e-7db4377de07f",
   "metadata": {},
   "source": [
    "**Evaluar el Modelo con Validación Cruzada**\n",
    "\n",
    "Este paso evalúa el rendimiento del mejor modelo encontrado por `GridSearchCV` utilizando validación cruzada y calcula la puntuación media. Aquí está el detalle:\n",
    "\n",
    "- **`cv_scores = cross_val_score(grid_search.best_estimator_, X, y, cv=5)`**:\n",
    "  - **Descripción**: La función `cross_val_score` realiza validación cruzada para el mejor modelo (`best_estimator_`) encontrado por `GridSearchCV`.\n",
    "  - **`grid_search.best_estimator_`**: El modelo con la mejor combinación de hiperparámetros.\n",
    "  - **`X`**: El DataFrame de características del conjunto de datos completo.\n",
    "  - **`y`**: La Serie de etiquetas del conjunto de datos completo.\n",
    "  - **`cv=5`**: Número de pliegues en la validación cruzada.\n",
    "  - **`cv_scores`**: Array que contiene las puntuaciones de rendimiento obtenidas en cada uno de los 5 pliegues de la validación cruzada.\n",
    "\n",
    "- **`print(\"Cross-Validation Scores:\", cv_scores)`**:\n",
    "  - **Descripción**: Imprime las puntuaciones obtenidas en cada pliegue de la validación cruzada, proporcionando una visión general del rendimiento del modelo en diferentes particiones del conjunto de datos.\n",
    "\n",
    "- **`RF_score = cv_scores.mean()`**:\n",
    "  - **Descripción**: Calcula la puntuación media de la validación cruzada. La media de las puntuaciones obtenidas en cada pliegue proporciona una medida general del rendimiento del modelo.\n",
    "\n",
    "- **`print(\"Mean CV Score:\", RF_score)`**:\n",
    "  - **Descripción**: Imprime la puntuación media de la validación cruzada. Este valor representa el rendimiento promedio del modelo en todas las particiones del conjunto de datos y da una idea de cómo se comporta el modelo en general.\n",
    "\n",
    "Este paso ayuda a evaluar la estabilidad y la capacidad de generalización del modelo al proporcionar una medida promedio de su rendimiento en diferentes particiones del conjunto de datos.\n"
   ]
  },
  {
   "cell_type": "code",
   "execution_count": 21,
   "id": "c53d6425-9fa9-4653-9c02-39323d1ec803",
   "metadata": {},
   "outputs": [
    {
     "name": "stdout",
     "output_type": "stream",
     "text": [
      "Cross-Validation Scores: [0.71428571 0.70779221 0.74675325 0.81699346 0.74509804]\n"
     ]
    }
   ],
   "source": [
    "# Evaluar el modelo con validación cruzada\n",
    "cv_scores = cross_val_score(grid_search.best_estimator_, X, y, cv=5)\n",
    "print(\"Cross-Validation Scores:\", cv_scores)"
   ]
  },
  {
   "cell_type": "code",
   "execution_count": 22,
   "id": "5c7ac864-878f-49a1-9c25-4d527ca4541f",
   "metadata": {},
   "outputs": [
    {
     "name": "stdout",
     "output_type": "stream",
     "text": [
      "Mean CV Score: 0.7461845344198285\n"
     ]
    }
   ],
   "source": [
    "RF_score=cv_scores.mean()\n",
    "print(\"Mean CV Score:\", RF_score)"
   ]
  },
  {
   "cell_type": "code",
   "execution_count": 23,
   "id": "c773df7e-45ca-440c-a1db-56ebdd5f71c7",
   "metadata": {},
   "outputs": [
    {
     "name": "stdout",
     "output_type": "stream",
     "text": [
      "Modelo guardado en /home/julio/jupyter_files/diabete/random_forest_model.pkl\n"
     ]
    }
   ],
   "source": [
    "# Guardar el modelo en un archivo\n",
    "model_filename = '/home/julio/jupyter_files/diabete/random_forest_model.pkl'\n",
    "joblib.dump(grid_search.best_estimator_, model_filename)\n",
    "print(f\"Modelo guardado en {model_filename}\")"
   ]
  },
  {
   "cell_type": "markdown",
   "id": "5cce39e0-81c9-49f0-97d3-b93407aa6ca3",
   "metadata": {},
   "source": [
    "**El siguiente paso es un ejemplo de prueba.**"
   ]
  },
  {
   "cell_type": "code",
   "execution_count": 24,
   "id": "f56ed04d-4e1d-47a9-a70e-06e958e94bfb",
   "metadata": {},
   "outputs": [
    {
     "name": "stdout",
     "output_type": "stream",
     "text": [
      "Modelo cargado con éxito\n",
      "Predicción para el ejemplo específico: 1\n"
     ]
    }
   ],
   "source": [
    "import joblib\n",
    "import pandas as pd\n",
    "\n",
    "# Ruta del archivo del modelo guardado\n",
    "model_filename = '/home/julio/jupyter_files/diabete/random_forest_model.pkl'\n",
    "\n",
    "# Cargar el modelo desde el archivo\n",
    "loaded_model = joblib.load(model_filename)\n",
    "print(\"Modelo cargado con éxito\")\n",
    "\n",
    "# Datos del ejemplo específico para prueba\n",
    "example_data = pd.DataFrame({\n",
    "    'Pregnancies': [6],\n",
    "    'Glucose': [148],\n",
    "    'BloodPressure': [72],\n",
    "    'SkinThickness': [35],\n",
    "    'Insulin': [0],\n",
    "    'BMI': [33.6],\n",
    "    'DiabetesPedigreeFunction': [0.627],\n",
    "    'Age': [50]\n",
    "})\n",
    "\n",
    "# Hacer predicción con el modelo cargado\n",
    "example_prediction = loaded_model.predict(example_data)\n",
    "print(\"Predicción para el ejemplo específico:\", example_prediction[0])"
   ]
  },
  {
   "cell_type": "markdown",
   "id": "eb633f55-6076-4951-80e6-d0e947126125",
   "metadata": {},
   "source": [
    "**Evaluación del Modelo Random Forest**\n",
    "\n",
    "- **Precisión (Accuracy)**: 0.70\n",
    "  - **Descripción**: El modelo acierta el 70% de las veces en sus predicciones sobre el conjunto de prueba. Esto indica una precisión general del modelo.\n",
    "\n",
    "- **Informe de Clasificación**:\n",
    "  - **Clase 0** (por ejemplo, clase negativa):\n",
    "    - **Precisión**: 0.81\n",
    "      - **Descripción**: De todas las instancias clasificadas como clase 0, el 81% son realmente clase 0.\n",
    "    - **Recall**: 0.70\n",
    "      - **Descripción**: El 70% de las instancias verdaderas de clase 0 fueron correctamente identificadas por el modelo.\n",
    "    - **F1-Score**: 0.75\n",
    "      - **Descripción**: La media armónica de precisión y recall para la clase 0. Un F1-score de 0.75 indica un buen equilibrio entre precisión y recall para esta clase.\n",
    "    - **Soporte**: 99\n",
    "      - **Descripción**: Número de instancias verdaderas de clase 0 en el conjunto de prueba.\n",
    "  - **Clase 1** (por ejemplo, clase positiva):\n",
    "    - **Precisión**: 0.57\n",
    "      - **Descripción**: De todas las instancias clasificadas como clase 1, el 57% son realmente clase 1.\n",
    "    - **Recall**: 0.71\n",
    "      - **Descripción**: El 71% de las instancias verdaderas de clase 1 fueron correctamente identificadas por el modelo.\n",
    "    - **F1-Score**: 0.63\n",
    "      - **Descripción**: La media armónica de precisión y recall para la clase 1. Un F1-score de 0.63 indica un equilibrio moderado entre precisión y recall para esta clase.\n",
    "    - **Soporte**: 55\n",
    "      - **Descripción**: Número de instancias verdaderas de clase 1 en el conjunto de prueba.\n",
    "  - **Promedio Macro**:\n",
    "    - **Precisión**: 0.69\n",
    "      - **Descripción**: Promedio de precisión para todas las clases sin considerar el soporte (tamaño) de cada clase.\n",
    "    - **Recall**: 0.70\n",
    "      - **Descripción**: Promedio de recall para todas las clases.\n",
    "    - **F1-Score**: 0.69\n",
    "      - **Descripción**: Promedio del F1-score para todas las clases.\n",
    "  - **Promedio Ponderado**:\n",
    "    - **Precisión**: 0.72\n",
    "      - **Descripción**: Precisión promedio ponderada por el soporte de cada clase. \n",
    "    - **Recall**: 0.70\n",
    "      - **Descripción**: Recall promedio ponderado por el soporte de cada clase.\n",
    "    - **F1-Score**: 0.71\n",
    "      - **Descripción**: F1-score promedio ponderado por el soporte de cada clase.\n",
    "\n",
    "- **Puntuaciones de Validación Cruzada**:\n",
    "  - **Puntuaciones**: [0.71, 0.71, 0.75, 0.82, 0.75]\n",
    "    - **Descripción**: Precisión obtenida en cada pliegue de la validación cruzada.\n",
    "  - **Media**: 0.75\n",
    "    - **Descripción**: La precisión promedio del modelo durante la validación cruzada, proporcionando una medida general de su rendimiento y estabilidad en diferentes subconjuntos de datos.\n",
    "\n",
    "Este resumen ayuda a entender cómo se desempeña el modelo Random Forest en términos de clasificación para cada clase y proporciona una evaluación general de su rendimiento mediante validación cruzada.\n"
   ]
  },
  {
   "cell_type": "markdown",
   "id": "79ad745c-3ff8-4598-9c53-b080f2da4c72",
   "metadata": {},
   "source": [
    "<H2>SVM</H2>"
   ]
  },
  {
   "cell_type": "code",
   "execution_count": 25,
   "id": "9eb0766a-6bf1-4bb6-af8c-11f5d1d7df54",
   "metadata": {},
   "outputs": [],
   "source": [
    "import pandas as pd\n",
    "from sklearn.model_selection import train_test_split\n",
    "from imblearn.over_sampling import SMOTE\n",
    "from sklearn.preprocessing import StandardScaler\n",
    "from sklearn.decomposition import PCA\n",
    "from sklearn.svm import SVC\n",
    "from sklearn.pipeline import Pipeline\n",
    "from sklearn.model_selection import GridSearchCV\n",
    "from sklearn.metrics import accuracy_score, classification_report\n",
    "from sklearn.model_selection import cross_val_score\n",
    "import joblib  # Para guardar el modelo"
   ]
  },
  {
   "cell_type": "markdown",
   "id": "ec296328-0fb2-4c0f-aef7-a1aacd2810cf",
   "metadata": {},
   "source": [
    "**Importar el dataset**"
   ]
  },
  {
   "cell_type": "code",
   "execution_count": 26,
   "id": "22a5328c-e858-4d37-b877-36e97975514e",
   "metadata": {},
   "outputs": [],
   "source": [
    "url = '/home/julio/jupyter_files/diabete/diabetes.csv'\n",
    "df1 = pd.read_csv(url)"
   ]
  },
  {
   "cell_type": "markdown",
   "id": "34e83759-feb7-424e-a223-bc157cf17dc2",
   "metadata": {},
   "source": [
    "**Separar características y variable objetivo** \n",
    "\n",
    "Preparar los datos para el entrenamiento de un modelo de Machine Learning.X contiene las variables que se usan para predecir y y contiene la variable que el modelo debe predecir. Este paso es crucial para separar los datos en características y etiquetas antes de entrenar el modelo."
   ]
  },
  {
   "cell_type": "code",
   "execution_count": 27,
   "id": "2685c061-9ebe-437d-a3d3-3a471777974b",
   "metadata": {},
   "outputs": [],
   "source": [
    "# Separar características y variable objetivo\n",
    "X = df1.drop('Outcome', axis=1)\n",
    "y = df1['Outcome']"
   ]
  },
  {
   "cell_type": "markdown",
   "id": "86a59e29-4d18-4e81-966e-d90cc6c9e0dc",
   "metadata": {},
   "source": [
    "**Dividir los datos** \n",
    "    \n",
    "Se entrena el modelo con X_train y y_train, y luego se prueba con X_test y y_test para ver cómo generaliza a datos que no ha visto antes."
   ]
  },
  {
   "cell_type": "code",
   "execution_count": 28,
   "id": "7d8e73ff-fdab-46a9-8ce1-44725e18038e",
   "metadata": {},
   "outputs": [],
   "source": [
    "# Dividir los datos en entrenamiento (80%) y prueba (20%)\n",
    "X_train, X_test, y_train, y_test = train_test_split(X, y, test_size=0.2, random_state=42)"
   ]
  },
  {
   "cell_type": "markdown",
   "id": "49a4f78f-3abd-4923-985d-b15176b689a0",
   "metadata": {},
   "source": [
    "**Aplicación de SMOTE para Manejar el Desbalance de Clases**\n",
    "\n",
    "Este paso utiliza la técnica SMOTE (Synthetic Minority Over-sampling Technique) para generar muestras sintéticas de la clase minoritaria en un conjunto de datos desbalanceado, con el fin de equilibrar el número de ejemplos entre las clases. Esto ayuda a mejorar la capacidad del modelo para aprender de manera justa y generalizar mejor."
   ]
  },
  {
   "cell_type": "code",
   "execution_count": 29,
   "id": "225f10b0-97ee-464d-9141-cbbc00270542",
   "metadata": {},
   "outputs": [],
   "source": [
    "# Aplicar SMOTE para manejar el desbalance de clases\n",
    "smote = SMOTE(random_state=42)\n",
    "X_train_resampled, y_train_resampled = smote.fit_resample(X_train, y_train)"
   ]
  },
  {
   "cell_type": "markdown",
   "id": "10936e67-bbe2-4621-89a8-baefee9e6d80",
   "metadata": {},
   "source": [
    "**Crear un Pipeline con Estandarización, Reducción de Dimensionalidad y Modelo SVM**\n",
    "\n",
    "Este paso configura un pipeline que integra múltiples etapas de procesamiento de datos y el modelo SVM (Support Vector Machine). Aquí está el detalle:\n",
    "\n",
    "- **`pipeline = Pipeline([...])`**:\n",
    "  - **Descripción**: Crea un objeto `Pipeline` que encadena varios pasos de procesamiento de datos y el modelo SVM. El pipeline permite aplicar estos pasos de manera secuencial y coherente.\n",
    "\n",
    "  - **`('scaler', StandardScaler())`**:\n",
    "    - **Descripción**: **Estandariza las características** utilizando `StandardScaler`. Este paso transforma los datos para que tengan una media de 0 y una desviación estándar de 1. La estandarización es importante para que el modelo SVM funcione correctamente, ya que los SVMs son sensibles a la escala de los datos.\n",
    "\n",
    "  - **`('pca', PCA(n_components=0.95))`**:\n",
    "    - **Descripción**: **Reduce la dimensionalidad** utilizando `PCA` (Análisis de Componentes Principales). `PCA(n_components=0.95)` selecciona el número de componentes principales necesarios para mantener el 95% de la varianza en los datos. La reducción de dimensionalidad ayuda a simplificar el modelo y a mejorar la eficiencia computacional.\n",
    "\n",
    "  - **`('svm', SVC(random_state=42))`**:\n",
    "    - **Descripción**: **Modelo Support Vector Machine** (`SVC`). `SVC` es un clasificador que encuentra el mejor hiperplano para separar las clases en el espacio de características. `random_state=42` asegura que el proceso sea reproducible al establecer una semilla para la aleatoriedad.\n",
    "\n",
    "Este pipeline permite realizar una preprocesamiento sistemático y eficiente de los datos antes de aplicar el modelo SVM, asegurando que las características estén estandarizadas y reducidas en dimensionalidad, lo que mejora el rendimiento y la eficacia del modelo.\n"
   ]
  },
  {
   "cell_type": "code",
   "execution_count": 30,
   "id": "31c9c604-990e-4b16-8576-68d005b3e664",
   "metadata": {},
   "outputs": [],
   "source": [
    "# Crear un pipeline con estandarización, reducción de dimensionalidad y modelo SVM\n",
    "pipeline = Pipeline([\n",
    "    ('scaler', StandardScaler()),  # Estandarizar características\n",
    "    ('pca', PCA(n_components=0.95)),  # Mantener el 95% de la varianza explicada\n",
    "    ('svm', SVC(random_state=42))  # Modelo Support Vector Machine\n",
    "])"
   ]
  },
  {
   "cell_type": "markdown",
   "id": "ec578e31-5306-48a6-bc8c-3719bd860100",
   "metadata": {},
   "source": [
    "**Definir el Espacio de Búsqueda para Grid Search**\n",
    "\n",
    "Este paso configura los hiperparámetros que serán probados por `GridSearchCV` para encontrar la mejor combinación para el modelo SVM dentro del pipeline. Aquí está el detalle:\n",
    "\n",
    "- **`param_grid = { ... }`**:\n",
    "  - **Descripción**: Define un diccionario `param_grid` que especifica los hiperparámetros del modelo SVM que se ajustarán durante la búsqueda de hiperparámetros.\n",
    "\n",
    "  - **`'svm__C': [0.1, 1, 10, 100]`**:\n",
    "    - **Descripción**: **`C`** es un parámetro de regularización en el modelo SVM. Controla el equilibrio entre maximizar el margen de separación y minimizar el error de clasificación en el conjunto de entrenamiento. Los valores en la lista representan diferentes niveles de regularización a probar.\n",
    "\n",
    "  - **`'svm__kernel': ['linear', 'rbf', 'poly']`**:\n",
    "    - **Descripción**: **`kernel`** especifica el tipo de función de núcleo (kernel) que el modelo SVM utilizará para transformar los datos. \n",
    "      - **`'linear'`**: Núcleo lineal para problemas que pueden ser separados con una línea recta.\n",
    "      - **`'rbf'`**: Núcleo de función radial (RBF) para manejar datos no lineales.\n",
    "      - **`'poly'`**: Núcleo polinómico para capturar relaciones no lineales de orden superior.\n",
    "\n",
    "  - **`'svm__gamma': ['scale', 'auto']`**:\n",
    "    - **Descripción**: **`gamma`** es un parámetro relevante para los núcleos RBF y polinómicos que define el alcance de influencia de un solo punto de entrenamiento. \n",
    "      - **`'scale'`**: Se establece como 1 / (n_features * X.var()).\n",
    "      - **`'auto'`**: Se establece como 1 / n_features.\n",
    "\n",
    "Este espacio de búsqueda define las combinaciones de hiperparámetros que serán evaluadas durante la validación cruzada para encontrar la configuración que optimiza el rendimiento del modelo SVM.\n"
   ]
  },
  {
   "cell_type": "code",
   "execution_count": 31,
   "id": "820a5042-9cbe-4485-ac99-2f801ca84aa0",
   "metadata": {},
   "outputs": [],
   "source": [
    "# Definir el espacio de búsqueda para Grid Search\n",
    "param_grid = {\n",
    "    'svm__C': [0.1, 1, 10, 100],\n",
    "    'svm__kernel': ['linear', 'rbf', 'poly'],\n",
    "    'svm__gamma': ['scale', 'auto']  # Solo relevante para kernel='rbf' y 'poly'\n",
    "}"
   ]
  },
  {
   "cell_type": "markdown",
   "id": "25662ab4-9032-4884-b8a6-77acc40193f9",
   "metadata": {},
   "source": [
    "**Configurar Grid Search**\n",
    "\n",
    "Este paso configura el proceso de búsqueda de hiperparámetros para el modelo SVM utilizando `GridSearchCV`. Aquí está el detalle:\n",
    "\n",
    "- **`grid_search = GridSearchCV(pipeline, param_grid, cv=5, n_jobs=-1, verbose=1)`**:\n",
    "  - **Descripción**: Crea un objeto `GridSearchCV` que realizará una búsqueda exhaustiva de hiperparámetros para el pipeline definido, utilizando validación cruzada.\n",
    "\n",
    "  - **`pipeline`**:\n",
    "    - **Descripción**: El objeto `Pipeline` que incluye la estandarización de características, reducción de dimensionalidad y el modelo SVM. `GridSearchCV` ajustará los hiperparámetros especificados en `param_grid` para este pipeline.\n",
    "\n",
    "  - **`param_grid`**:\n",
    "    - **Descripción**: El diccionario que define los hiperparámetros a probar durante la búsqueda. Incluye configuraciones para los parámetros del modelo SVM.\n",
    "\n",
    "  - **`cv=5`**:\n",
    "    - **Descripción**: Número de pliegues para la validación cruzada. En este caso, los datos se dividirán en 5 partes, y el modelo se evaluará en cada una de estas partes.\n",
    "\n",
    "  - **`n_jobs=-1`**:\n",
    "    - **Descripción**: Utiliza todos los núcleos disponibles del procesador para realizar la búsqueda en paralelo, lo que acelera el proceso de ajuste de hiperparámetros.\n",
    "\n",
    "  - **`verbose=1`**:\n",
    "    - **Descripción**: Controla el nivel de detalle de la salida de información durante la búsqueda. `verbose=1` proporciona información básica sobre el progreso de la búsqueda.\n",
    "\n",
    "Este paso configura `GridSearchCV` para encontrar la mejor combinación de hiperparámetros para el pipeline mediante una búsqueda exhaustiva y validación cruzada.\n"
   ]
  },
  {
   "cell_type": "code",
   "execution_count": 32,
   "id": "78b3d1fd-aa5e-48cc-a742-db757b2144ec",
   "metadata": {},
   "outputs": [],
   "source": [
    "# Configurar Grid Search\n",
    "grid_search = GridSearchCV(pipeline, param_grid, cv=5, n_jobs=-1, verbose=1)"
   ]
  },
  {
   "cell_type": "markdown",
   "id": "39fea467-b5ad-4ff4-b07e-b7b528beff8b",
   "metadata": {},
   "source": [
    "**Entrenar el Modelo con Grid Search**\n",
    "\n",
    "Este paso entrena el modelo utilizando `GridSearchCV` en el conjunto de datos de entrenamiento. Aquí está el detalle:\n",
    "\n",
    "- **`grid_search.fit(X_train_resampled, y_train_resampled)`**:\n",
    "  - **Descripción**: Ajusta (entrena) el modelo con las mejores combinaciones de hiperparámetros encontradas durante la búsqueda en el conjunto de datos de entrenamiento.\n",
    "\n",
    "  - **`X_train_resampled`**:\n",
    "    - **Descripción**: El DataFrame de características del conjunto de entrenamiento que ha sido balanceado (por ejemplo, usando SMOTE). Contiene los datos que se utilizarán para entrenar el modelo.\n",
    "\n",
    "  - **`y_train_resampled`**:\n",
    "    - **Descripción**: La Serie de etiquetas del conjunto de entrenamiento que ha sido balanceada. Estas son las etiquetas verdaderas asociadas a `X_train_resampled`.\n",
    "\n",
    "  - **Proceso**:\n",
    "    - `GridSearchCV` probará todas las combinaciones de hiperparámetros definidas en `param_grid` usando validación cruzada.\n",
    "    - El mejor modelo será seleccionado en base a su rendimiento en los pliegues de validación cruzada.\n",
    "    - Una vez que se encuentra la mejor combinación de hiperparámetros, el modelo se entrena en el conjunto de datos de entrenamiento completo (`X_train_resampled` y `y_train_resampled`).\n",
    "\n",
    "Este paso permite entrenar el modelo con los mejores parámetros encontrados, optimizando así su rendimiento para la tarea específica.\n"
   ]
  },
  {
   "cell_type": "code",
   "execution_count": 33,
   "id": "fa89fb4c-9ed8-4184-a50f-32c0fc78a1d4",
   "metadata": {},
   "outputs": [
    {
     "name": "stdout",
     "output_type": "stream",
     "text": [
      "Fitting 5 folds for each of 24 candidates, totalling 120 fits\n"
     ]
    },
    {
     "data": {
      "text/html": [
       "<style>#sk-container-id-2 {\n",
       "  /* Definition of color scheme common for light and dark mode */\n",
       "  --sklearn-color-text: black;\n",
       "  --sklearn-color-line: gray;\n",
       "  /* Definition of color scheme for unfitted estimators */\n",
       "  --sklearn-color-unfitted-level-0: #fff5e6;\n",
       "  --sklearn-color-unfitted-level-1: #f6e4d2;\n",
       "  --sklearn-color-unfitted-level-2: #ffe0b3;\n",
       "  --sklearn-color-unfitted-level-3: chocolate;\n",
       "  /* Definition of color scheme for fitted estimators */\n",
       "  --sklearn-color-fitted-level-0: #f0f8ff;\n",
       "  --sklearn-color-fitted-level-1: #d4ebff;\n",
       "  --sklearn-color-fitted-level-2: #b3dbfd;\n",
       "  --sklearn-color-fitted-level-3: cornflowerblue;\n",
       "\n",
       "  /* Specific color for light theme */\n",
       "  --sklearn-color-text-on-default-background: var(--sg-text-color, var(--theme-code-foreground, var(--jp-content-font-color1, black)));\n",
       "  --sklearn-color-background: var(--sg-background-color, var(--theme-background, var(--jp-layout-color0, white)));\n",
       "  --sklearn-color-border-box: var(--sg-text-color, var(--theme-code-foreground, var(--jp-content-font-color1, black)));\n",
       "  --sklearn-color-icon: #696969;\n",
       "\n",
       "  @media (prefers-color-scheme: dark) {\n",
       "    /* Redefinition of color scheme for dark theme */\n",
       "    --sklearn-color-text-on-default-background: var(--sg-text-color, var(--theme-code-foreground, var(--jp-content-font-color1, white)));\n",
       "    --sklearn-color-background: var(--sg-background-color, var(--theme-background, var(--jp-layout-color0, #111)));\n",
       "    --sklearn-color-border-box: var(--sg-text-color, var(--theme-code-foreground, var(--jp-content-font-color1, white)));\n",
       "    --sklearn-color-icon: #878787;\n",
       "  }\n",
       "}\n",
       "\n",
       "#sk-container-id-2 {\n",
       "  color: var(--sklearn-color-text);\n",
       "}\n",
       "\n",
       "#sk-container-id-2 pre {\n",
       "  padding: 0;\n",
       "}\n",
       "\n",
       "#sk-container-id-2 input.sk-hidden--visually {\n",
       "  border: 0;\n",
       "  clip: rect(1px 1px 1px 1px);\n",
       "  clip: rect(1px, 1px, 1px, 1px);\n",
       "  height: 1px;\n",
       "  margin: -1px;\n",
       "  overflow: hidden;\n",
       "  padding: 0;\n",
       "  position: absolute;\n",
       "  width: 1px;\n",
       "}\n",
       "\n",
       "#sk-container-id-2 div.sk-dashed-wrapped {\n",
       "  border: 1px dashed var(--sklearn-color-line);\n",
       "  margin: 0 0.4em 0.5em 0.4em;\n",
       "  box-sizing: border-box;\n",
       "  padding-bottom: 0.4em;\n",
       "  background-color: var(--sklearn-color-background);\n",
       "}\n",
       "\n",
       "#sk-container-id-2 div.sk-container {\n",
       "  /* jupyter's `normalize.less` sets `[hidden] { display: none; }`\n",
       "     but bootstrap.min.css set `[hidden] { display: none !important; }`\n",
       "     so we also need the `!important` here to be able to override the\n",
       "     default hidden behavior on the sphinx rendered scikit-learn.org.\n",
       "     See: https://github.com/scikit-learn/scikit-learn/issues/21755 */\n",
       "  display: inline-block !important;\n",
       "  position: relative;\n",
       "}\n",
       "\n",
       "#sk-container-id-2 div.sk-text-repr-fallback {\n",
       "  display: none;\n",
       "}\n",
       "\n",
       "div.sk-parallel-item,\n",
       "div.sk-serial,\n",
       "div.sk-item {\n",
       "  /* draw centered vertical line to link estimators */\n",
       "  background-image: linear-gradient(var(--sklearn-color-text-on-default-background), var(--sklearn-color-text-on-default-background));\n",
       "  background-size: 2px 100%;\n",
       "  background-repeat: no-repeat;\n",
       "  background-position: center center;\n",
       "}\n",
       "\n",
       "/* Parallel-specific style estimator block */\n",
       "\n",
       "#sk-container-id-2 div.sk-parallel-item::after {\n",
       "  content: \"\";\n",
       "  width: 100%;\n",
       "  border-bottom: 2px solid var(--sklearn-color-text-on-default-background);\n",
       "  flex-grow: 1;\n",
       "}\n",
       "\n",
       "#sk-container-id-2 div.sk-parallel {\n",
       "  display: flex;\n",
       "  align-items: stretch;\n",
       "  justify-content: center;\n",
       "  background-color: var(--sklearn-color-background);\n",
       "  position: relative;\n",
       "}\n",
       "\n",
       "#sk-container-id-2 div.sk-parallel-item {\n",
       "  display: flex;\n",
       "  flex-direction: column;\n",
       "}\n",
       "\n",
       "#sk-container-id-2 div.sk-parallel-item:first-child::after {\n",
       "  align-self: flex-end;\n",
       "  width: 50%;\n",
       "}\n",
       "\n",
       "#sk-container-id-2 div.sk-parallel-item:last-child::after {\n",
       "  align-self: flex-start;\n",
       "  width: 50%;\n",
       "}\n",
       "\n",
       "#sk-container-id-2 div.sk-parallel-item:only-child::after {\n",
       "  width: 0;\n",
       "}\n",
       "\n",
       "/* Serial-specific style estimator block */\n",
       "\n",
       "#sk-container-id-2 div.sk-serial {\n",
       "  display: flex;\n",
       "  flex-direction: column;\n",
       "  align-items: center;\n",
       "  background-color: var(--sklearn-color-background);\n",
       "  padding-right: 1em;\n",
       "  padding-left: 1em;\n",
       "}\n",
       "\n",
       "\n",
       "/* Toggleable style: style used for estimator/Pipeline/ColumnTransformer box that is\n",
       "clickable and can be expanded/collapsed.\n",
       "- Pipeline and ColumnTransformer use this feature and define the default style\n",
       "- Estimators will overwrite some part of the style using the `sk-estimator` class\n",
       "*/\n",
       "\n",
       "/* Pipeline and ColumnTransformer style (default) */\n",
       "\n",
       "#sk-container-id-2 div.sk-toggleable {\n",
       "  /* Default theme specific background. It is overwritten whether we have a\n",
       "  specific estimator or a Pipeline/ColumnTransformer */\n",
       "  background-color: var(--sklearn-color-background);\n",
       "}\n",
       "\n",
       "/* Toggleable label */\n",
       "#sk-container-id-2 label.sk-toggleable__label {\n",
       "  cursor: pointer;\n",
       "  display: block;\n",
       "  width: 100%;\n",
       "  margin-bottom: 0;\n",
       "  padding: 0.5em;\n",
       "  box-sizing: border-box;\n",
       "  text-align: center;\n",
       "}\n",
       "\n",
       "#sk-container-id-2 label.sk-toggleable__label-arrow:before {\n",
       "  /* Arrow on the left of the label */\n",
       "  content: \"▸\";\n",
       "  float: left;\n",
       "  margin-right: 0.25em;\n",
       "  color: var(--sklearn-color-icon);\n",
       "}\n",
       "\n",
       "#sk-container-id-2 label.sk-toggleable__label-arrow:hover:before {\n",
       "  color: var(--sklearn-color-text);\n",
       "}\n",
       "\n",
       "/* Toggleable content - dropdown */\n",
       "\n",
       "#sk-container-id-2 div.sk-toggleable__content {\n",
       "  max-height: 0;\n",
       "  max-width: 0;\n",
       "  overflow: hidden;\n",
       "  text-align: left;\n",
       "  /* unfitted */\n",
       "  background-color: var(--sklearn-color-unfitted-level-0);\n",
       "}\n",
       "\n",
       "#sk-container-id-2 div.sk-toggleable__content.fitted {\n",
       "  /* fitted */\n",
       "  background-color: var(--sklearn-color-fitted-level-0);\n",
       "}\n",
       "\n",
       "#sk-container-id-2 div.sk-toggleable__content pre {\n",
       "  margin: 0.2em;\n",
       "  border-radius: 0.25em;\n",
       "  color: var(--sklearn-color-text);\n",
       "  /* unfitted */\n",
       "  background-color: var(--sklearn-color-unfitted-level-0);\n",
       "}\n",
       "\n",
       "#sk-container-id-2 div.sk-toggleable__content.fitted pre {\n",
       "  /* unfitted */\n",
       "  background-color: var(--sklearn-color-fitted-level-0);\n",
       "}\n",
       "\n",
       "#sk-container-id-2 input.sk-toggleable__control:checked~div.sk-toggleable__content {\n",
       "  /* Expand drop-down */\n",
       "  max-height: 200px;\n",
       "  max-width: 100%;\n",
       "  overflow: auto;\n",
       "}\n",
       "\n",
       "#sk-container-id-2 input.sk-toggleable__control:checked~label.sk-toggleable__label-arrow:before {\n",
       "  content: \"▾\";\n",
       "}\n",
       "\n",
       "/* Pipeline/ColumnTransformer-specific style */\n",
       "\n",
       "#sk-container-id-2 div.sk-label input.sk-toggleable__control:checked~label.sk-toggleable__label {\n",
       "  color: var(--sklearn-color-text);\n",
       "  background-color: var(--sklearn-color-unfitted-level-2);\n",
       "}\n",
       "\n",
       "#sk-container-id-2 div.sk-label.fitted input.sk-toggleable__control:checked~label.sk-toggleable__label {\n",
       "  background-color: var(--sklearn-color-fitted-level-2);\n",
       "}\n",
       "\n",
       "/* Estimator-specific style */\n",
       "\n",
       "/* Colorize estimator box */\n",
       "#sk-container-id-2 div.sk-estimator input.sk-toggleable__control:checked~label.sk-toggleable__label {\n",
       "  /* unfitted */\n",
       "  background-color: var(--sklearn-color-unfitted-level-2);\n",
       "}\n",
       "\n",
       "#sk-container-id-2 div.sk-estimator.fitted input.sk-toggleable__control:checked~label.sk-toggleable__label {\n",
       "  /* fitted */\n",
       "  background-color: var(--sklearn-color-fitted-level-2);\n",
       "}\n",
       "\n",
       "#sk-container-id-2 div.sk-label label.sk-toggleable__label,\n",
       "#sk-container-id-2 div.sk-label label {\n",
       "  /* The background is the default theme color */\n",
       "  color: var(--sklearn-color-text-on-default-background);\n",
       "}\n",
       "\n",
       "/* On hover, darken the color of the background */\n",
       "#sk-container-id-2 div.sk-label:hover label.sk-toggleable__label {\n",
       "  color: var(--sklearn-color-text);\n",
       "  background-color: var(--sklearn-color-unfitted-level-2);\n",
       "}\n",
       "\n",
       "/* Label box, darken color on hover, fitted */\n",
       "#sk-container-id-2 div.sk-label.fitted:hover label.sk-toggleable__label.fitted {\n",
       "  color: var(--sklearn-color-text);\n",
       "  background-color: var(--sklearn-color-fitted-level-2);\n",
       "}\n",
       "\n",
       "/* Estimator label */\n",
       "\n",
       "#sk-container-id-2 div.sk-label label {\n",
       "  font-family: monospace;\n",
       "  font-weight: bold;\n",
       "  display: inline-block;\n",
       "  line-height: 1.2em;\n",
       "}\n",
       "\n",
       "#sk-container-id-2 div.sk-label-container {\n",
       "  text-align: center;\n",
       "}\n",
       "\n",
       "/* Estimator-specific */\n",
       "#sk-container-id-2 div.sk-estimator {\n",
       "  font-family: monospace;\n",
       "  border: 1px dotted var(--sklearn-color-border-box);\n",
       "  border-radius: 0.25em;\n",
       "  box-sizing: border-box;\n",
       "  margin-bottom: 0.5em;\n",
       "  /* unfitted */\n",
       "  background-color: var(--sklearn-color-unfitted-level-0);\n",
       "}\n",
       "\n",
       "#sk-container-id-2 div.sk-estimator.fitted {\n",
       "  /* fitted */\n",
       "  background-color: var(--sklearn-color-fitted-level-0);\n",
       "}\n",
       "\n",
       "/* on hover */\n",
       "#sk-container-id-2 div.sk-estimator:hover {\n",
       "  /* unfitted */\n",
       "  background-color: var(--sklearn-color-unfitted-level-2);\n",
       "}\n",
       "\n",
       "#sk-container-id-2 div.sk-estimator.fitted:hover {\n",
       "  /* fitted */\n",
       "  background-color: var(--sklearn-color-fitted-level-2);\n",
       "}\n",
       "\n",
       "/* Specification for estimator info (e.g. \"i\" and \"?\") */\n",
       "\n",
       "/* Common style for \"i\" and \"?\" */\n",
       "\n",
       ".sk-estimator-doc-link,\n",
       "a:link.sk-estimator-doc-link,\n",
       "a:visited.sk-estimator-doc-link {\n",
       "  float: right;\n",
       "  font-size: smaller;\n",
       "  line-height: 1em;\n",
       "  font-family: monospace;\n",
       "  background-color: var(--sklearn-color-background);\n",
       "  border-radius: 1em;\n",
       "  height: 1em;\n",
       "  width: 1em;\n",
       "  text-decoration: none !important;\n",
       "  margin-left: 1ex;\n",
       "  /* unfitted */\n",
       "  border: var(--sklearn-color-unfitted-level-1) 1pt solid;\n",
       "  color: var(--sklearn-color-unfitted-level-1);\n",
       "}\n",
       "\n",
       ".sk-estimator-doc-link.fitted,\n",
       "a:link.sk-estimator-doc-link.fitted,\n",
       "a:visited.sk-estimator-doc-link.fitted {\n",
       "  /* fitted */\n",
       "  border: var(--sklearn-color-fitted-level-1) 1pt solid;\n",
       "  color: var(--sklearn-color-fitted-level-1);\n",
       "}\n",
       "\n",
       "/* On hover */\n",
       "div.sk-estimator:hover .sk-estimator-doc-link:hover,\n",
       ".sk-estimator-doc-link:hover,\n",
       "div.sk-label-container:hover .sk-estimator-doc-link:hover,\n",
       ".sk-estimator-doc-link:hover {\n",
       "  /* unfitted */\n",
       "  background-color: var(--sklearn-color-unfitted-level-3);\n",
       "  color: var(--sklearn-color-background);\n",
       "  text-decoration: none;\n",
       "}\n",
       "\n",
       "div.sk-estimator.fitted:hover .sk-estimator-doc-link.fitted:hover,\n",
       ".sk-estimator-doc-link.fitted:hover,\n",
       "div.sk-label-container:hover .sk-estimator-doc-link.fitted:hover,\n",
       ".sk-estimator-doc-link.fitted:hover {\n",
       "  /* fitted */\n",
       "  background-color: var(--sklearn-color-fitted-level-3);\n",
       "  color: var(--sklearn-color-background);\n",
       "  text-decoration: none;\n",
       "}\n",
       "\n",
       "/* Span, style for the box shown on hovering the info icon */\n",
       ".sk-estimator-doc-link span {\n",
       "  display: none;\n",
       "  z-index: 9999;\n",
       "  position: relative;\n",
       "  font-weight: normal;\n",
       "  right: .2ex;\n",
       "  padding: .5ex;\n",
       "  margin: .5ex;\n",
       "  width: min-content;\n",
       "  min-width: 20ex;\n",
       "  max-width: 50ex;\n",
       "  color: var(--sklearn-color-text);\n",
       "  box-shadow: 2pt 2pt 4pt #999;\n",
       "  /* unfitted */\n",
       "  background: var(--sklearn-color-unfitted-level-0);\n",
       "  border: .5pt solid var(--sklearn-color-unfitted-level-3);\n",
       "}\n",
       "\n",
       ".sk-estimator-doc-link.fitted span {\n",
       "  /* fitted */\n",
       "  background: var(--sklearn-color-fitted-level-0);\n",
       "  border: var(--sklearn-color-fitted-level-3);\n",
       "}\n",
       "\n",
       ".sk-estimator-doc-link:hover span {\n",
       "  display: block;\n",
       "}\n",
       "\n",
       "/* \"?\"-specific style due to the `<a>` HTML tag */\n",
       "\n",
       "#sk-container-id-2 a.estimator_doc_link {\n",
       "  float: right;\n",
       "  font-size: 1rem;\n",
       "  line-height: 1em;\n",
       "  font-family: monospace;\n",
       "  background-color: var(--sklearn-color-background);\n",
       "  border-radius: 1rem;\n",
       "  height: 1rem;\n",
       "  width: 1rem;\n",
       "  text-decoration: none;\n",
       "  /* unfitted */\n",
       "  color: var(--sklearn-color-unfitted-level-1);\n",
       "  border: var(--sklearn-color-unfitted-level-1) 1pt solid;\n",
       "}\n",
       "\n",
       "#sk-container-id-2 a.estimator_doc_link.fitted {\n",
       "  /* fitted */\n",
       "  border: var(--sklearn-color-fitted-level-1) 1pt solid;\n",
       "  color: var(--sklearn-color-fitted-level-1);\n",
       "}\n",
       "\n",
       "/* On hover */\n",
       "#sk-container-id-2 a.estimator_doc_link:hover {\n",
       "  /* unfitted */\n",
       "  background-color: var(--sklearn-color-unfitted-level-3);\n",
       "  color: var(--sklearn-color-background);\n",
       "  text-decoration: none;\n",
       "}\n",
       "\n",
       "#sk-container-id-2 a.estimator_doc_link.fitted:hover {\n",
       "  /* fitted */\n",
       "  background-color: var(--sklearn-color-fitted-level-3);\n",
       "}\n",
       "</style><div id=\"sk-container-id-2\" class=\"sk-top-container\"><div class=\"sk-text-repr-fallback\"><pre>GridSearchCV(cv=5,\n",
       "             estimator=Pipeline(steps=[(&#x27;scaler&#x27;, StandardScaler()),\n",
       "                                       (&#x27;pca&#x27;, PCA(n_components=0.95)),\n",
       "                                       (&#x27;svm&#x27;, SVC(random_state=42))]),\n",
       "             n_jobs=-1,\n",
       "             param_grid={&#x27;svm__C&#x27;: [0.1, 1, 10, 100],\n",
       "                         &#x27;svm__gamma&#x27;: [&#x27;scale&#x27;, &#x27;auto&#x27;],\n",
       "                         &#x27;svm__kernel&#x27;: [&#x27;linear&#x27;, &#x27;rbf&#x27;, &#x27;poly&#x27;]},\n",
       "             verbose=1)</pre><b>In a Jupyter environment, please rerun this cell to show the HTML representation or trust the notebook. <br />On GitHub, the HTML representation is unable to render, please try loading this page with nbviewer.org.</b></div><div class=\"sk-container\" hidden><div class=\"sk-item sk-dashed-wrapped\"><div class=\"sk-label-container\"><div class=\"sk-label fitted sk-toggleable\"><input class=\"sk-toggleable__control sk-hidden--visually\" id=\"sk-estimator-id-6\" type=\"checkbox\" ><label for=\"sk-estimator-id-6\" class=\"sk-toggleable__label fitted sk-toggleable__label-arrow fitted\">&nbsp;&nbsp;GridSearchCV<a class=\"sk-estimator-doc-link fitted\" rel=\"noreferrer\" target=\"_blank\" href=\"https://scikit-learn.org/1.4/modules/generated/sklearn.model_selection.GridSearchCV.html\">?<span>Documentation for GridSearchCV</span></a><span class=\"sk-estimator-doc-link fitted\">i<span>Fitted</span></span></label><div class=\"sk-toggleable__content fitted\"><pre>GridSearchCV(cv=5,\n",
       "             estimator=Pipeline(steps=[(&#x27;scaler&#x27;, StandardScaler()),\n",
       "                                       (&#x27;pca&#x27;, PCA(n_components=0.95)),\n",
       "                                       (&#x27;svm&#x27;, SVC(random_state=42))]),\n",
       "             n_jobs=-1,\n",
       "             param_grid={&#x27;svm__C&#x27;: [0.1, 1, 10, 100],\n",
       "                         &#x27;svm__gamma&#x27;: [&#x27;scale&#x27;, &#x27;auto&#x27;],\n",
       "                         &#x27;svm__kernel&#x27;: [&#x27;linear&#x27;, &#x27;rbf&#x27;, &#x27;poly&#x27;]},\n",
       "             verbose=1)</pre></div> </div></div><div class=\"sk-parallel\"><div class=\"sk-parallel-item\"><div class=\"sk-item\"><div class=\"sk-label-container\"><div class=\"sk-label fitted sk-toggleable\"><input class=\"sk-toggleable__control sk-hidden--visually\" id=\"sk-estimator-id-7\" type=\"checkbox\" ><label for=\"sk-estimator-id-7\" class=\"sk-toggleable__label fitted sk-toggleable__label-arrow fitted\">estimator: Pipeline</label><div class=\"sk-toggleable__content fitted\"><pre>Pipeline(steps=[(&#x27;scaler&#x27;, StandardScaler()), (&#x27;pca&#x27;, PCA(n_components=0.95)),\n",
       "                (&#x27;svm&#x27;, SVC(random_state=42))])</pre></div> </div></div><div class=\"sk-serial\"><div class=\"sk-item\"><div class=\"sk-serial\"><div class=\"sk-item\"><div class=\"sk-estimator fitted sk-toggleable\"><input class=\"sk-toggleable__control sk-hidden--visually\" id=\"sk-estimator-id-8\" type=\"checkbox\" ><label for=\"sk-estimator-id-8\" class=\"sk-toggleable__label fitted sk-toggleable__label-arrow fitted\">&nbsp;StandardScaler<a class=\"sk-estimator-doc-link fitted\" rel=\"noreferrer\" target=\"_blank\" href=\"https://scikit-learn.org/1.4/modules/generated/sklearn.preprocessing.StandardScaler.html\">?<span>Documentation for StandardScaler</span></a></label><div class=\"sk-toggleable__content fitted\"><pre>StandardScaler()</pre></div> </div></div><div class=\"sk-item\"><div class=\"sk-estimator fitted sk-toggleable\"><input class=\"sk-toggleable__control sk-hidden--visually\" id=\"sk-estimator-id-9\" type=\"checkbox\" ><label for=\"sk-estimator-id-9\" class=\"sk-toggleable__label fitted sk-toggleable__label-arrow fitted\">&nbsp;PCA<a class=\"sk-estimator-doc-link fitted\" rel=\"noreferrer\" target=\"_blank\" href=\"https://scikit-learn.org/1.4/modules/generated/sklearn.decomposition.PCA.html\">?<span>Documentation for PCA</span></a></label><div class=\"sk-toggleable__content fitted\"><pre>PCA(n_components=0.95)</pre></div> </div></div><div class=\"sk-item\"><div class=\"sk-estimator fitted sk-toggleable\"><input class=\"sk-toggleable__control sk-hidden--visually\" id=\"sk-estimator-id-10\" type=\"checkbox\" ><label for=\"sk-estimator-id-10\" class=\"sk-toggleable__label fitted sk-toggleable__label-arrow fitted\">&nbsp;SVC<a class=\"sk-estimator-doc-link fitted\" rel=\"noreferrer\" target=\"_blank\" href=\"https://scikit-learn.org/1.4/modules/generated/sklearn.svm.SVC.html\">?<span>Documentation for SVC</span></a></label><div class=\"sk-toggleable__content fitted\"><pre>SVC(random_state=42)</pre></div> </div></div></div></div></div></div></div></div></div></div></div>"
      ],
      "text/plain": [
       "GridSearchCV(cv=5,\n",
       "             estimator=Pipeline(steps=[('scaler', StandardScaler()),\n",
       "                                       ('pca', PCA(n_components=0.95)),\n",
       "                                       ('svm', SVC(random_state=42))]),\n",
       "             n_jobs=-1,\n",
       "             param_grid={'svm__C': [0.1, 1, 10, 100],\n",
       "                         'svm__gamma': ['scale', 'auto'],\n",
       "                         'svm__kernel': ['linear', 'rbf', 'poly']},\n",
       "             verbose=1)"
      ]
     },
     "execution_count": 33,
     "metadata": {},
     "output_type": "execute_result"
    }
   ],
   "source": [
    "# Entrenar el modelo con Grid Search\n",
    "grid_search.fit(X_train_resampled, y_train_resampled)"
   ]
  },
  {
   "cell_type": "markdown",
   "id": "28eb5a14-937f-4f11-8819-4bb312a4058f",
   "metadata": {},
   "source": [
    "**Entrenar el Modelo con Grid Search**\n",
    "\n",
    "**`grid_search.fit(X_train_resampled, y_train_resampled)`**:\n",
    "- **Descripción**: Ajusta (entrena) el modelo utilizando `GridSearchCV` en el conjunto de datos de entrenamiento.\n",
    "- **`X_train_resampled`**: El DataFrame de características del conjunto de entrenamiento, que ha sido balanceado (por ejemplo, mediante SMOTE).\n",
    "- **`y_train_resampled`**: La Serie de etiquetas del conjunto de entrenamiento, balanceada junto con las características.\n",
    "\n",
    "Este paso busca la mejor combinación de hiperparámetros y entrena el modelo SVM con los datos balanceados de entrenamiento.\n",
    "\n",
    "**Hacer Predicciones en el Conjunto de Prueba**\n",
    "\n",
    "**`y_pred = grid_search.predict(X_test)`**:\n",
    "- **Descripción**: Utiliza el modelo entrenado con `GridSearchCV` para hacer predicciones sobre el conjunto de datos de prueba.\n",
    "- **`X_test`**: El DataFrame de características del conjunto de prueba. Este conjunto de datos no se ha visto durante el entrenamiento del modelo y se usa para evaluar su rendimiento.\n",
    "- **`y_pred`**: Las predicciones realizadas por el modelo en el conjunto de prueba.\n",
    "\n",
    "Este paso permite obtener las predicciones del modelo entrenado en datos nuevos (conjunto de prueba) para evaluar su desempeño en datos no vistos previamente."
   ]
  },
  {
   "cell_type": "code",
   "execution_count": 34,
   "id": "9a12a39c-8585-4c48-96e0-f88090ea9343",
   "metadata": {},
   "outputs": [
    {
     "name": "stdout",
     "output_type": "stream",
     "text": [
      "Fitting 5 folds for each of 24 candidates, totalling 120 fits\n"
     ]
    }
   ],
   "source": [
    "# Entrenar el modelo con Grid Search\n",
    "grid_search.fit(X_train_resampled, y_train_resampled)\n",
    "\n",
    "# Hacer predicciones en el conjunto de prueba\n",
    "y_pred = grid_search.predict(X_test)"
   ]
  },
  {
   "cell_type": "markdown",
   "id": "57fd9b77-d1d0-462d-81d8-19fe04f117ee",
   "metadata": {
    "jp-MarkdownHeadingCollapsed": true
   },
   "source": [
    "**Evaluar el Modelo**\n",
    "\n",
    "**`print(\"Accuracy:\", accuracy_score(y_test, y_pred))`**:\n",
    "- **Descripción**: Calcula y muestra la precisión del modelo en el conjunto de prueba.\n",
    "- **`accuracy_score(y_test, y_pred)`**: Función que compara las etiquetas verdaderas del conjunto de prueba (`y_test`) con las etiquetas predichas (`y_pred`) y calcula la proporción de predicciones correctas.\n",
    "- **`\"Accuracy:\"`**: Etiqueta que se imprime junto con la precisión para identificar la métrica.\n",
    "\n",
    "**`print(\"Classification Report:\\n\", classification_report(y_test, y_pred))`**:\n",
    "- **Descripción**: Genera y muestra un informe detallado de clasificación que incluye métricas como precisión, recall, f1-score y soporte para cada clase.\n",
    "- **`classification_report(y_test, y_pred)`**: Función que proporciona un informe detallado sobre el rendimiento del modelo en términos de precisión, recall y f1-score para cada clase en el conjunto de prueba.\n",
    "- **`\"Classification Report:\\n\"`**: Etiqueta que se imprime junto con el informe de clasificación para identificar la métrica.\n",
    "\n",
    "Estos pasos permiten evaluar el rendimiento del modelo en datos de prueba, proporcionando una visión general de su eficacia y cómo maneja cada clase en términos de precisión, recall y f1-score.\n"
   ]
  },
  {
   "cell_type": "code",
   "execution_count": 35,
   "id": "84a9ac24-308f-47ac-85ae-50832c14dd70",
   "metadata": {},
   "outputs": [
    {
     "name": "stdout",
     "output_type": "stream",
     "text": [
      "Accuracy: 0.6623376623376623\n",
      "Classification Report:\n",
      "               precision    recall  f1-score   support\n",
      "\n",
      "           0       0.75      0.71      0.73        99\n",
      "           1       0.52      0.58      0.55        55\n",
      "\n",
      "    accuracy                           0.66       154\n",
      "   macro avg       0.64      0.64      0.64       154\n",
      "weighted avg       0.67      0.66      0.67       154\n",
      "\n"
     ]
    }
   ],
   "source": [
    "# Evaluar el modelo\n",
    "print(\"Accuracy:\", accuracy_score(y_test, y_pred))\n",
    "print(\"Classification Report:\\n\", classification_report(y_test, y_pred))\n",
    "SVM_accuracy=accuracy_score(y_test, y_pred)"
   ]
  },
  {
   "cell_type": "markdown",
   "id": "c0113af6-f979-439b-8c08-3b8c46f5ff3a",
   "metadata": {},
   "source": [
    "**Evaluar el Modelo con Validación Cruzada**\n",
    "\n",
    "**`cv_scores = cross_val_score(grid_search.best_estimator_, X, y, cv=5)`**:\n",
    "- **Descripción**: Realiza una validación cruzada utilizando el mejor modelo encontrado por `GridSearchCV` y calcula la precisión en cada pliegue.\n",
    "- **`grid_search.best_estimator_`**: El modelo con los mejores hiperparámetros encontrados durante la búsqueda.\n",
    "- **`X`**: El DataFrame de características del conjunto de datos completo.\n",
    "- **`y`**: La Serie de etiquetas del conjunto de datos completo.\n",
    "- **`cv=5`**: Número de pliegues para la validación cruzada. Los datos se dividen en 5 partes y se evalúa el modelo en cada una de estas partes.\n",
    "\n",
    "**`print(\"Cross-Validation Scores:\", cv_scores)`**:\n",
    "- **Descripción**: Imprime las puntuaciones obtenidas en cada pliegue de la validación cruzada.\n",
    "- **`cv_scores`**: Array de puntuaciones de precisión para cada uno de los 5 pliegues.\n",
    "\n",
    "**`print(\"Mean CV Score:\", cv_scores.mean())`**:\n",
    "- **Descripción**: Calcula y muestra la puntuación media de validación cruzada, proporcionando una medida general del rendimiento del modelo.\n",
    "- **`cv_scores.mean()`**: Media de las puntuaciones de precisión obtenidas en los 5 pliegues.\n",
    "\n",
    "Estos pasos permiten evaluar el rendimiento general del modelo mediante validación cruzada, ofreciendo una visión de su estabilidad y capacidad de generalización en diferentes subconjuntos de datos."
   ]
  },
  {
   "cell_type": "code",
   "execution_count": 36,
   "id": "b3ee654b-94dc-409a-b499-0c2e0cafdd31",
   "metadata": {},
   "outputs": [
    {
     "name": "stdout",
     "output_type": "stream",
     "text": [
      "Cross-Validation Scores: [0.70779221 0.68181818 0.72727273 0.73856209 0.76470588]\n",
      "Mean CV Score: 0.7240302181478653\n"
     ]
    }
   ],
   "source": [
    "cv_scores = cross_val_score(grid_search.best_estimator_, X, y, cv=5)\n",
    "print(\"Cross-Validation Scores:\", cv_scores)\n",
    "SVM_score=cv_scores.mean()\n",
    "print(\"Mean CV Score:\",SVM_score)"
   ]
  },
  {
   "cell_type": "markdown",
   "id": "f974037b-91ab-4367-9ef4-4b59dc241c86",
   "metadata": {},
   "source": [
    "**Guardar el modelo en un archivo**"
   ]
  },
  {
   "cell_type": "code",
   "execution_count": 37,
   "id": "11d54766-9f06-4b36-904f-ba922097b743",
   "metadata": {},
   "outputs": [
    {
     "name": "stdout",
     "output_type": "stream",
     "text": [
      "Modelo guardado en /home/julio/jupyter_files/diabete/svm_model.pkl\n"
     ]
    }
   ],
   "source": [
    "model_filename = '/home/julio/jupyter_files/diabete/svm_model.pkl'\n",
    "joblib.dump(grid_search.best_estimator_, model_filename)\n",
    "print(f\"Modelo guardado en {model_filename}\")"
   ]
  },
  {
   "cell_type": "markdown",
   "id": "22f9c641-d3f0-4c14-9202-20877e752b64",
   "metadata": {},
   "source": [
    "**El siguiente paso es un ejemplo de prueba.**"
   ]
  },
  {
   "cell_type": "code",
   "execution_count": 38,
   "id": "bcd9f037-63e4-4863-bea8-6cfb657c93bc",
   "metadata": {},
   "outputs": [
    {
     "name": "stdout",
     "output_type": "stream",
     "text": [
      "Modelo cargado con éxito\n",
      "Predicción para el ejemplo específico: 1\n"
     ]
    }
   ],
   "source": [
    "import joblib\n",
    "import pandas as pd\n",
    "\n",
    "# Ruta del archivo del modelo guardado\n",
    "model_filename = '/home/julio/jupyter_files/diabete/svm_model.pkl'\n",
    "\n",
    "# Cargar el modelo desde el archivo\n",
    "loaded_model = joblib.load(model_filename)\n",
    "print(\"Modelo cargado con éxito\")\n",
    "\n",
    "# Datos del ejemplo específico para prueba\n",
    "example_data = pd.DataFrame({\n",
    "    'Pregnancies': [6],\n",
    "    'Glucose': [148],\n",
    "    'BloodPressure': [72],\n",
    "    'SkinThickness': [35],\n",
    "    'Insulin': [0],\n",
    "    'BMI': [33.6],\n",
    "    'DiabetesPedigreeFunction': [0.627],\n",
    "    'Age': [50]\n",
    "})\n",
    "\n",
    "# Hacer predicción con el modelo cargado\n",
    "example_prediction = loaded_model.predict(example_data)\n",
    "print(\"Predicción para el ejemplo específico:\", example_prediction[0])\n"
   ]
  },
  {
   "cell_type": "markdown",
   "id": "cda1138c-fcf5-4800-ab13-c301cb6bf0c2",
   "metadata": {},
   "source": [
    "**Evaluación del Modelo SVM**\n",
    "\n",
    "- **Precisión (Accuracy)**: 0.66\n",
    "  - **Descripción**: El modelo tiene una precisión del 66% en sus predicciones sobre el conjunto de prueba, indicando el porcentaje general de predicciones correctas.\n",
    "\n",
    "- **Informe de Clasificación**:\n",
    "  - **Clase 0** (por ejemplo, clase negativa):\n",
    "    - **Precisión**: 0.75\n",
    "      - **Descripción**: De todas las instancias clasificadas como clase 0, el 75% son realmente clase 0.\n",
    "    - **Recall**: 0.71\n",
    "      - **Descripción**: El 71% de las instancias verdaderas de clase 0 fueron correctamente identificadas por el modelo.\n",
    "    - **F1-Score**: 0.73\n",
    "      - **Descripción**: La media armónica de precisión y recall para la clase 0. Un F1-score de 0.73 indica un buen equilibrio entre precisión y recall para esta clase.\n",
    "    - **Soporte**: 99\n",
    "      - **Descripción**: Número de instancias verdaderas de clase 0 en el conjunto de prueba.\n",
    "  - **Clase 1** (por ejemplo, clase positiva):\n",
    "    - **Precisión**: 0.52\n",
    "      - **Descripción**: De todas las instancias clasificadas como clase 1, el 52% son realmente clase 1.\n",
    "    - **Recall**: 0.58\n",
    "      - **Descripción**: El 58% de las instancias verdaderas de clase 1 fueron correctamente identificadas por el modelo.\n",
    "    - **F1-Score**: 0.55\n",
    "      - **Descripción**: La media armónica de precisión y recall para la clase 1. Un F1-score de 0.55 indica un equilibrio moderado entre precisión y recall para esta clase.\n",
    "    - **Soporte**: 55\n",
    "      - **Descripción**: Número de instancias verdaderas de clase 1 en el conjunto de prueba.\n",
    "  - **Promedio Macro**:\n",
    "    - **Precisión**: 0.64\n",
    "      - **Descripción**: Promedio de precisión para todas las clases sin considerar el soporte de cada clase.\n",
    "    - **Recall**: 0.64\n",
    "      - **Descripción**: Promedio de recall para todas las clases.\n",
    "    - **F1-Score**: 0.64\n",
    "      - **Descripción**: Promedio del F1-score para todas las clases.\n",
    "  - **Promedio Ponderado**:\n",
    "    - **Precisión**: 0.67\n",
    "      - **Descripción**: Precisión promedio ponderada por el soporte de cada clase.\n",
    "    - **Recall**: 0.66\n",
    "      - **Descripción**: Recall promedio ponderado por el soporte de cada clase.\n",
    "    - **F1-Score**: 0.67\n",
    "      - **Descripción**: F1-score promedio ponderado por el soporte de cada clase.\n",
    "\n",
    "- **Puntuaciones de Validación Cruzada**:\n",
    "  - **Puntuaciones**: [0.71, 0.68, 0.73, 0.74, 0.76]\n",
    "    - **Descripción**: Precisión obtenida en cada pliegue de la validación cruzada.\n",
    "  - **Media**: 0.72\n",
    "    - **Descripción**: La precisión promedio del modelo durante la validación cruzada, proporcionando una medida general de su rendimiento y estabilidad en diferentes subconjuntos de datos.\n",
    "\n",
    "Este resumen proporciona una visión clara del rendimiento del modelo SVM, detallando cómo maneja cada clase y cómo se comporta en términos de precisión, recall y F1-score, junto con una evaluación general mediante validación cruzada.\n"
   ]
  },
  {
   "cell_type": "markdown",
   "id": "23ae6519-0c7c-42b4-a3d7-95b5d3688b6d",
   "metadata": {},
   "source": [
    "<H2>Red Neuronal</H2>"
   ]
  },
  {
   "cell_type": "code",
   "execution_count": 39,
   "id": "8d9dcd40-66ad-4912-99cc-1d7da28efb95",
   "metadata": {},
   "outputs": [],
   "source": [
    "#!pip install tensorflow"
   ]
  },
  {
   "cell_type": "code",
   "execution_count": 40,
   "id": "8115462f-b583-4a9e-91cb-343fc58c23b6",
   "metadata": {},
   "outputs": [
    {
     "name": "stderr",
     "output_type": "stream",
     "text": [
      "2024-08-09 10:43:52.800542: E external/local_xla/xla/stream_executor/cuda/cuda_fft.cc:485] Unable to register cuFFT factory: Attempting to register factory for plugin cuFFT when one has already been registered\n",
      "2024-08-09 10:43:52.824456: E external/local_xla/xla/stream_executor/cuda/cuda_dnn.cc:8454] Unable to register cuDNN factory: Attempting to register factory for plugin cuDNN when one has already been registered\n",
      "2024-08-09 10:43:52.831374: E external/local_xla/xla/stream_executor/cuda/cuda_blas.cc:1452] Unable to register cuBLAS factory: Attempting to register factory for plugin cuBLAS when one has already been registered\n",
      "2024-08-09 10:43:52.848247: I tensorflow/core/platform/cpu_feature_guard.cc:210] This TensorFlow binary is optimized to use available CPU instructions in performance-critical operations.\n",
      "To enable the following instructions: AVX2 FMA, in other operations, rebuild TensorFlow with the appropriate compiler flags.\n",
      "2024-08-09 10:43:54.050537: W tensorflow/compiler/tf2tensorrt/utils/py_utils.cc:38] TF-TRT Warning: Could not find TensorRT\n"
     ]
    }
   ],
   "source": [
    "import pandas as pd\n",
    "from sklearn.model_selection import train_test_split\n",
    "from imblearn.over_sampling import SMOTE\n",
    "from sklearn.preprocessing import StandardScaler\n",
    "from sklearn.decomposition import PCA\n",
    "import tensorflow as tf\n",
    "from tensorflow.keras.models import Sequential\n",
    "from tensorflow.keras.layers import Dense\n",
    "from tensorflow.keras.optimizers import Adam\n",
    "from sklearn.metrics import accuracy_score, classification_report"
   ]
  },
  {
   "cell_type": "markdown",
   "id": "caa3aa2e-ae73-450c-bd0d-d3c3440fe67b",
   "metadata": {},
   "source": [
    "**Importamos el data set**"
   ]
  },
  {
   "cell_type": "code",
   "execution_count": 41,
   "id": "38ec05da-f1be-4d70-be39-7480cb1ea4db",
   "metadata": {},
   "outputs": [],
   "source": [
    "# Cargar el dataset\n",
    "url = '/home/julio/jupyter_files/diabete/diabetes.csv'\n",
    "df1 = pd.read_csv(url)"
   ]
  },
  {
   "cell_type": "markdown",
   "id": "fa19c291-1d20-4c0f-b01f-a7f591ee3cdc",
   "metadata": {},
   "source": [
    "**Separar características y variable objetivo** \n",
    "\n",
    "Preparar los datos para el entrenamiento de un modelo de Machine Learning.X contiene las variables que se usan para predecir y y contiene la variable que el modelo debe predecir. Este paso es crucial para separar los datos en características y etiquetas antes de entrenar el modelo."
   ]
  },
  {
   "cell_type": "code",
   "execution_count": 42,
   "id": "4eaf9064-0a52-4dab-8680-47535971e240",
   "metadata": {},
   "outputs": [],
   "source": [
    "# Separar características y variable objetivo\n",
    "X = df1.drop('Outcome', axis=1)\n",
    "y = df1['Outcome']"
   ]
  },
  {
   "cell_type": "markdown",
   "id": "db7124fe-50e0-4f7c-a0ae-a14b8284c4fa",
   "metadata": {},
   "source": [
    "**Dividir los datos** \n",
    "    \n",
    "Se entrena el modelo con X_train y y_train, y luego se prueba con X_test y y_test para ver cómo generaliza a datos que no ha visto antes."
   ]
  },
  {
   "cell_type": "code",
   "execution_count": 43,
   "id": "ffae75b5-529e-403e-b7e2-d44e7e718d6e",
   "metadata": {},
   "outputs": [],
   "source": [
    "# Dividir los datos en entrenamiento (80%) y prueba (20%)\n",
    "X_train, X_test, y_train, y_test = train_test_split(X, y, test_size=0.2, random_state=42)"
   ]
  },
  {
   "cell_type": "markdown",
   "id": "a21ea840-9689-421b-a0a9-d3fa5ec5c53a",
   "metadata": {},
   "source": [
    "**Aplicación de SMOTE para Manejar el Desbalance de Clases**\n",
    "\n",
    "Este paso utiliza la técnica SMOTE (Synthetic Minority Over-sampling Technique) para generar muestras sintéticas de la clase minoritaria en un conjunto de datos desbalanceado, con el fin de equilibrar el número de ejemplos entre las clases. Esto ayuda a mejorar la capacidad del modelo para aprender de manera justa y generalizar mejor."
   ]
  },
  {
   "cell_type": "code",
   "execution_count": 44,
   "id": "aea79d3b-af42-47e1-8a6c-e5c30ca08d2c",
   "metadata": {},
   "outputs": [],
   "source": [
    "# Aplicar SMOTE para manejar el desbalance de clases\n",
    "smote = SMOTE(random_state=42)\n",
    "X_train_resampled, y_train_resampled = smote.fit_resample(X_train, y_train)"
   ]
  },
  {
   "cell_type": "markdown",
   "id": "d29c6ec7-7e71-4443-b1f9-8bea2c092e00",
   "metadata": {},
   "source": [
    "**Estandarización de Características**\n",
    "\n",
    "Este proceso ajusta las características para que tengan una media de 0 y una desviación estándar de 1, lo cual ayuda a que todos los atributos tengan igual peso en el análisis y mejora el rendimiento del modelo."
   ]
  },
  {
   "cell_type": "code",
   "execution_count": 45,
   "id": "462075ee-228c-4b80-bfcf-3c9558534e83",
   "metadata": {},
   "outputs": [],
   "source": [
    "# Estandarizar características\n",
    "scaler = StandardScaler()\n",
    "X_train_scaled = scaler.fit_transform(X_train_resampled)\n",
    "X_test_scaled = scaler.transform(X_test)"
   ]
  },
  {
   "cell_type": "markdown",
   "id": "50e23ee0-8122-4ac5-8cd7-c54964264851",
   "metadata": {},
   "source": [
    "**Aplicación de PCA (Análisis de Componentes Principales)**\n",
    "\n",
    "El Análisis de Componentes Principales (PCA) es una técnica de reducción de dimensionalidad que transforma los datos a un nuevo espacio de menor dimensión, manteniendo la mayor cantidad posible de la varianza original. Esto ayuda a simplificar el modelo y reducir el tiempo de procesamiento al conservar la información más relevante."
   ]
  },
  {
   "cell_type": "code",
   "execution_count": 46,
   "id": "151ce8b0-9d8a-46f5-94aa-33b66729ecc4",
   "metadata": {},
   "outputs": [],
   "source": [
    "# Aplicar PCA\n",
    "pca = PCA(n_components=0.95)\n",
    "X_train_pca = pca.fit_transform(X_train_scaled)\n",
    "X_test_pca = pca.transform(X_test_scaled)"
   ]
  },
  {
   "cell_type": "markdown",
   "id": "44a5da87-afe2-4139-b921-3d35dd626b0b",
   "metadata": {},
   "source": [
    "**Definición del Modelo de Red Neuronal**\n",
    "\n",
    "En este paso, se define un modelo de red neuronal secuencial utilizando Keras. Las redes neuronales son modelos de aprendizaje automático que pueden capturar relaciones complejas en los datos y son especialmente útiles para tareas de clasificación."
   ]
  },
  {
   "cell_type": "markdown",
   "id": "5d7b083d-b3f9-42f9-b14f-56e51d46bcf2",
   "metadata": {},
   "source": [
    "**Descripción**\n",
    "Sequential():\n",
    "\n",
    "Crea una instancia del modelo secuencial, que es una pila lineal de capas. Es el tipo más simple de modelo de red neuronal en Keras, donde las capas se añaden una después de la otra.\n",
    "Dense(64, activation='relu', input_shape=(X_train_pca.shape[1],)):\n",
    "\n",
    "**Dense(64):** Añade una capa densa (totalmente conectada) con 64 neuronas. Cada neurona está conectada a todas las neuronas de la capa anterior.\n",
    "activation='relu': Utiliza la función de activación ReLU (Rectified Linear Unit), que introduce no linealidades al modelo y ayuda a capturar relaciones complejas.\n",
    "input_shape=(X_train_pca.shape[1],): Define la forma de la entrada, que debe coincidir con el número de características después de aplicar PCA.\n",
    "\n",
    "**Dense(32, activation='relu'):** Añade una segunda capa densa con 32 neuronas y la función de activación ReLU. Esta capa permite al modelo aprender características adicionales de los datos.\n",
    "Dense(1, activation='sigmoid'):\n",
    "\n",
    "**Dense(1):** Añade una capa densa con una sola neurona, que produce una salida escalar.\n",
    "activation='sigmoid': Utiliza la función de activación sigmoide, que comprime la salida entre 0 y 1. Es adecuada para problemas de clasificación binaria, ya que proporciona una probabilidad de pertenencia a la clase positiva."
   ]
  },
  {
   "cell_type": "code",
   "execution_count": 47,
   "id": "358f38e9-d42f-4c1b-99af-ab226cec941b",
   "metadata": {},
   "outputs": [
    {
     "name": "stderr",
     "output_type": "stream",
     "text": [
      "/home/julio/.local/lib/python3.10/site-packages/keras/src/layers/core/dense.py:87: UserWarning: Do not pass an `input_shape`/`input_dim` argument to a layer. When using Sequential models, prefer using an `Input(shape)` object as the first layer in the model instead.\n",
      "  super().__init__(activity_regularizer=activity_regularizer, **kwargs)\n"
     ]
    }
   ],
   "source": [
    "# Definir el modelo de red neuronal\n",
    "model = Sequential([\n",
    "    Dense(64, activation='relu', input_shape=(X_train_pca.shape[1],)),\n",
    "    Dense(32, activation='relu'),\n",
    "    Dense(1, activation='sigmoid')  # Activación sigmoid para clasificación binaria\n",
    "])"
   ]
  },
  {
   "cell_type": "markdown",
   "id": "8668d7cb-47ca-419e-8fdc-a9089a6446a5",
   "metadata": {},
   "source": [
    "**Compilación del Modelo de Red Neuronal**\n",
    "\n",
    "La compilación del modelo establece el optimizador, la función de pérdida y las métricas a utilizar durante el entrenamiento. En este caso, se usa el optimizador Adam con una tasa de aprendizaje de 0.001, la función de pérdida de entropía cruzada binaria para problemas de clasificación binaria, y la precisión como métrica para evaluar el rendimiento del modelo."
   ]
  },
  {
   "cell_type": "code",
   "execution_count": 48,
   "id": "4001bed1-5fa4-4a26-a13f-2ab507a6f828",
   "metadata": {},
   "outputs": [],
   "source": [
    "# Compilar el modelo\n",
    "model.compile(optimizer=Adam(learning_rate=0.001),\n",
    "              loss='binary_crossentropy',\n",
    "              metrics=['accuracy'])"
   ]
  },
  {
   "cell_type": "markdown",
   "id": "f887cf22-8dc8-4d32-a31b-c8580353991c",
   "metadata": {},
   "source": [
    "**Entrenamiento del Modelo de Red Neuronal**\n",
    "\n",
    "El entrenamiento del modelo se realiza usando los datos de entrenamiento transformados por PCA y las etiquetas reequilibradas. El modelo se entrena durante 20 épocas con un tamaño de batch de 32 y utiliza un 20% de los datos de entrenamiento para validación. El progreso del entrenamiento se muestra con detalles sobre la pérdida y la precisión en cada época."
   ]
  },
  {
   "cell_type": "code",
   "execution_count": 49,
   "id": "11cdd652-9733-4178-9984-a48b16448224",
   "metadata": {},
   "outputs": [
    {
     "name": "stdout",
     "output_type": "stream",
     "text": [
      "Epoch 1/20\n",
      "\u001b[1m21/21\u001b[0m \u001b[32m━━━━━━━━━━━━━━━━━━━━\u001b[0m\u001b[37m\u001b[0m \u001b[1m1s\u001b[0m 12ms/step - accuracy: 0.4671 - loss: 0.6962 - val_accuracy: 0.3168 - val_loss: 0.7418\n",
      "Epoch 2/20\n",
      "\u001b[1m21/21\u001b[0m \u001b[32m━━━━━━━━━━━━━━━━━━━━\u001b[0m\u001b[37m\u001b[0m \u001b[1m0s\u001b[0m 4ms/step - accuracy: 0.7592 - loss: 0.5923 - val_accuracy: 0.5404 - val_loss: 0.7090\n",
      "Epoch 3/20\n",
      "\u001b[1m21/21\u001b[0m \u001b[32m━━━━━━━━━━━━━━━━━━━━\u001b[0m\u001b[37m\u001b[0m \u001b[1m0s\u001b[0m 3ms/step - accuracy: 0.7460 - loss: 0.5337 - val_accuracy: 0.6398 - val_loss: 0.6786\n",
      "Epoch 4/20\n",
      "\u001b[1m21/21\u001b[0m \u001b[32m━━━━━━━━━━━━━━━━━━━━\u001b[0m\u001b[37m\u001b[0m \u001b[1m0s\u001b[0m 4ms/step - accuracy: 0.7617 - loss: 0.5064 - val_accuracy: 0.7019 - val_loss: 0.6423\n",
      "Epoch 5/20\n",
      "\u001b[1m21/21\u001b[0m \u001b[32m━━━━━━━━━━━━━━━━━━━━\u001b[0m\u001b[37m\u001b[0m \u001b[1m0s\u001b[0m 4ms/step - accuracy: 0.7761 - loss: 0.4878 - val_accuracy: 0.6460 - val_loss: 0.6949\n",
      "Epoch 6/20\n",
      "\u001b[1m21/21\u001b[0m \u001b[32m━━━━━━━━━━━━━━━━━━━━\u001b[0m\u001b[37m\u001b[0m \u001b[1m0s\u001b[0m 4ms/step - accuracy: 0.7905 - loss: 0.4589 - val_accuracy: 0.6894 - val_loss: 0.6466\n",
      "Epoch 7/20\n",
      "\u001b[1m21/21\u001b[0m \u001b[32m━━━━━━━━━━━━━━━━━━━━\u001b[0m\u001b[37m\u001b[0m \u001b[1m0s\u001b[0m 4ms/step - accuracy: 0.7820 - loss: 0.4731 - val_accuracy: 0.6770 - val_loss: 0.6578\n",
      "Epoch 8/20\n",
      "\u001b[1m21/21\u001b[0m \u001b[32m━━━━━━━━━━━━━━━━━━━━\u001b[0m\u001b[37m\u001b[0m \u001b[1m0s\u001b[0m 4ms/step - accuracy: 0.7626 - loss: 0.4738 - val_accuracy: 0.6522 - val_loss: 0.6703\n",
      "Epoch 9/20\n",
      "\u001b[1m21/21\u001b[0m \u001b[32m━━━━━━━━━━━━━━━━━━━━\u001b[0m\u001b[37m\u001b[0m \u001b[1m0s\u001b[0m 5ms/step - accuracy: 0.7618 - loss: 0.4842 - val_accuracy: 0.6708 - val_loss: 0.6463\n",
      "Epoch 10/20\n",
      "\u001b[1m21/21\u001b[0m \u001b[32m━━━━━━━━━━━━━━━━━━━━\u001b[0m\u001b[37m\u001b[0m \u001b[1m0s\u001b[0m 5ms/step - accuracy: 0.7974 - loss: 0.4484 - val_accuracy: 0.6522 - val_loss: 0.6512\n",
      "Epoch 11/20\n",
      "\u001b[1m21/21\u001b[0m \u001b[32m━━━━━━━━━━━━━━━━━━━━\u001b[0m\u001b[37m\u001b[0m \u001b[1m0s\u001b[0m 4ms/step - accuracy: 0.7949 - loss: 0.4505 - val_accuracy: 0.6832 - val_loss: 0.5757\n",
      "Epoch 12/20\n",
      "\u001b[1m21/21\u001b[0m \u001b[32m━━━━━━━━━━━━━━━━━━━━\u001b[0m\u001b[37m\u001b[0m \u001b[1m0s\u001b[0m 3ms/step - accuracy: 0.7738 - loss: 0.4459 - val_accuracy: 0.6894 - val_loss: 0.5766\n",
      "Epoch 13/20\n",
      "\u001b[1m21/21\u001b[0m \u001b[32m━━━━━━━━━━━━━━━━━━━━\u001b[0m\u001b[37m\u001b[0m \u001b[1m0s\u001b[0m 4ms/step - accuracy: 0.7944 - loss: 0.4559 - val_accuracy: 0.6832 - val_loss: 0.6198\n",
      "Epoch 14/20\n",
      "\u001b[1m21/21\u001b[0m \u001b[32m━━━━━━━━━━━━━━━━━━━━\u001b[0m\u001b[37m\u001b[0m \u001b[1m0s\u001b[0m 4ms/step - accuracy: 0.7750 - loss: 0.4699 - val_accuracy: 0.6398 - val_loss: 0.6540\n",
      "Epoch 15/20\n",
      "\u001b[1m21/21\u001b[0m \u001b[32m━━━━━━━━━━━━━━━━━━━━\u001b[0m\u001b[37m\u001b[0m \u001b[1m0s\u001b[0m 4ms/step - accuracy: 0.7832 - loss: 0.4475 - val_accuracy: 0.6894 - val_loss: 0.5974\n",
      "Epoch 16/20\n",
      "\u001b[1m21/21\u001b[0m \u001b[32m━━━━━━━━━━━━━━━━━━━━\u001b[0m\u001b[37m\u001b[0m \u001b[1m0s\u001b[0m 4ms/step - accuracy: 0.7996 - loss: 0.4344 - val_accuracy: 0.6522 - val_loss: 0.6533\n",
      "Epoch 17/20\n",
      "\u001b[1m21/21\u001b[0m \u001b[32m━━━━━━━━━━━━━━━━━━━━\u001b[0m\u001b[37m\u001b[0m \u001b[1m0s\u001b[0m 4ms/step - accuracy: 0.7735 - loss: 0.4603 - val_accuracy: 0.6894 - val_loss: 0.6216\n",
      "Epoch 18/20\n",
      "\u001b[1m21/21\u001b[0m \u001b[32m━━━━━━━━━━━━━━━━━━━━\u001b[0m\u001b[37m\u001b[0m \u001b[1m0s\u001b[0m 4ms/step - accuracy: 0.7964 - loss: 0.4549 - val_accuracy: 0.7019 - val_loss: 0.6173\n",
      "Epoch 19/20\n",
      "\u001b[1m21/21\u001b[0m \u001b[32m━━━━━━━━━━━━━━━━━━━━\u001b[0m\u001b[37m\u001b[0m \u001b[1m0s\u001b[0m 4ms/step - accuracy: 0.8086 - loss: 0.4231 - val_accuracy: 0.6770 - val_loss: 0.6247\n",
      "Epoch 20/20\n",
      "\u001b[1m21/21\u001b[0m \u001b[32m━━━━━━━━━━━━━━━━━━━━\u001b[0m\u001b[37m\u001b[0m \u001b[1m0s\u001b[0m 4ms/step - accuracy: 0.7932 - loss: 0.4387 - val_accuracy: 0.6957 - val_loss: 0.6042\n"
     ]
    }
   ],
   "source": [
    "# Entrenar el modelo\n",
    "history = model.fit(X_train_pca, y_train_resampled,\n",
    "                    epochs=20,\n",
    "                    batch_size=32,\n",
    "                    validation_split=0.2,  # Usar un porcentaje de los datos de entrenamiento para validación\n",
    "                    verbose=1)"
   ]
  },
  {
   "cell_type": "markdown",
   "id": "3841870f-c772-4a4c-8550-4f3e4263beeb",
   "metadata": {},
   "source": [
    "**Evaluar el Modelo en el Conjunto de Prueba**\n",
    "\n",
    "Este paso evalúa el modelo entrenado generando probabilidades de predicción sobre el conjunto de prueba y luego convierte estas probabilidades en etiquetas binarias utilizando un umbral de 0.5. Esto permite realizar una evaluación del rendimiento del modelo en términos de precisión y otras métricas de clasificación."
   ]
  },
  {
   "cell_type": "code",
   "execution_count": 50,
   "id": "aef30c10-7432-42f3-8017-8f7761be591b",
   "metadata": {},
   "outputs": [
    {
     "name": "stdout",
     "output_type": "stream",
     "text": [
      "\u001b[1m5/5\u001b[0m \u001b[32m━━━━━━━━━━━━━━━━━━━━\u001b[0m\u001b[37m\u001b[0m \u001b[1m0s\u001b[0m 12ms/step\n"
     ]
    }
   ],
   "source": [
    "# Evaluar el modelo en el conjunto de prueba\n",
    "y_pred_probs = model.predict(X_test_pca)\n",
    "y_pred = (y_pred_probs > 0.5).astype(int)"
   ]
  },
  {
   "cell_type": "markdown",
   "id": "ccc07038-469f-4aa1-94f3-ccb83a9b0502",
   "metadata": {},
   "source": [
    "**Evaluar el Rendimiento del Modelo**\n",
    "\n",
    "Este paso evalúa el rendimiento del modelo utilizando la precisión general y un informe de clasificación detallado. La precisión muestra la exactitud general del modelo, mientras que el informe de clasificación proporciona un análisis más completo de su rendimiento en términos de precisión, recall, f1-score y soporte para cada clase."
   ]
  },
  {
   "cell_type": "code",
   "execution_count": 51,
   "id": "d9a8fd33-fb9e-4d23-964c-cc5017bd5879",
   "metadata": {},
   "outputs": [
    {
     "name": "stdout",
     "output_type": "stream",
     "text": [
      "Accuracy: 0.7662337662337663\n",
      "Classification Report:\n",
      "               precision    recall  f1-score   support\n",
      "\n",
      "           0       0.82      0.82      0.82        99\n",
      "           1       0.67      0.67      0.67        55\n",
      "\n",
      "    accuracy                           0.77       154\n",
      "   macro avg       0.75      0.75      0.75       154\n",
      "weighted avg       0.77      0.77      0.77       154\n",
      "\n"
     ]
    }
   ],
   "source": [
    "# Evaluar el rendimiento del modelo\n",
    "print(\"Accuracy:\", accuracy_score(y_test, y_pred))\n",
    "RNS_accuracy=accuracy_score(y_test, y_pred)\n",
    "print(\"Classification Report:\\n\", classification_report(y_test, y_pred))"
   ]
  },
  {
   "cell_type": "markdown",
   "id": "b3c809b4-06f8-41a8-a55b-cd0ba60f6dea",
   "metadata": {},
   "source": [
    "**Evaluación del Rendimiento del Modelo**\n",
    "\n",
    "**Resultados**\n",
    "\n",
    "- **Accuracy**: 0.77\n",
    "  - La precisión general del modelo es del 77%, indicando que el modelo ha clasificado correctamente el 77% de las muestras en el conjunto de prueba.\n",
    "\n",
    "- **Classification Report**:\n",
    "\n",
    "  - **Clase 0**:\n",
    "    - **Precisión**: 0.82\n",
    "      - De todas las muestras clasificadas como clase 0, el 82% son realmente de clase 0.\n",
    "    - **Recall**: 0.82\n",
    "      - El 82% de todas las muestras reales de clase 0 han sido identificadas correctamente por el modelo.\n",
    "    - **F1-Score**: 0.82\n",
    "      - La media armónica de precisión y recall para la clase 0 es 0.82, lo que indica un buen equilibrio entre precisión y recall.\n",
    "\n",
    "  - **Clase 1**:\n",
    "    - **Precisión**: 0.67\n",
    "      - De todas las muestras clasificadas como clase 1, el 67% son realmente de clase 1.\n",
    "    - **Recall**: 0.67\n",
    "      - El 67% de todas las muestras reales de clase 1 han sido identificadas correctamente por el modelo.\n",
    "    - **F1-Score**: 0.67\n",
    "      - La media armónica de precisión y recall para la clase 1 es 0.67, indicando un rendimiento equilibrado pero menor comparado con la clase 0.\n",
    "\n",
    "  - **Promedio Macro**:\n",
    "    - **Precisión**: 0.75\n",
    "      - La precisión promedio para ambas clases es del 75%.\n",
    "    - **Recall**: 0.75\n",
    "      - El recall promedio para ambas clases es del 75%.\n",
    "    - **F1-Score**: 0.75\n",
    "      - El f1-score promedio para ambas clases es del 75%, proporcionando una medida general del rendimiento del modelo en ambas clases.\n",
    "\n",
    "  - **Promedio Ponderado**:\n",
    "    - **Precisión**: 0.77\n",
    "      - La precisión promedio ponderada, considerando el número de muestras en cada clase, es del 77%.\n",
    "    - **Recall**: 0.77\n",
    "      - El recall promedio ponderado es del 77%.\n",
    "    - **F1-Score**: 0.77\n",
    "      - El f1-score promedio ponderado es del 77%, reflejando el rendimiento general del modelo.\n",
    "\n",
    "\n",
    "\n",
    "El modelo presenta una precisión general del 77%, con un buen rendimiento en la clase 0 (precisión y recall del 82%) y un rendimiento aceptable en la clase 1 (precisión y recall del 67%). El informe de clasificación muestra un equilibrio razonable entre precisión y recall, con un rendimiento promedio ponderado también del 77%.\n"
   ]
  },
  {
   "cell_type": "markdown",
   "id": "d31075e2-ff2b-424b-b96b-a242891e7b3b",
   "metadata": {},
   "source": [
    "**Guardar el modelo**"
   ]
  },
  {
   "cell_type": "code",
   "execution_count": 52,
   "id": "ccb987ea-2995-4bdc-b5b3-7b5621f67933",
   "metadata": {},
   "outputs": [
    {
     "name": "stderr",
     "output_type": "stream",
     "text": [
      "WARNING:absl:You are saving your model as an HDF5 file via `model.save()` or `keras.saving.save_model(model)`. This file format is considered legacy. We recommend using instead the native Keras format, e.g. `model.save('my_model.keras')` or `keras.saving.save_model(model, 'my_model.keras')`. \n"
     ]
    },
    {
     "name": "stdout",
     "output_type": "stream",
     "text": [
      "Modelo guardado en /home/julio/jupyter_files/diabete/nn_model.h5\n"
     ]
    }
   ],
   "source": [
    "model_filename = '/home/julio/jupyter_files/diabete/nn_model.h5'\n",
    "model.save(model_filename)\n",
    "print(f\"Modelo guardado en {model_filename}\")"
   ]
  },
  {
   "cell_type": "code",
   "execution_count": 53,
   "id": "99bf42a7-0432-4605-a04c-e216f1332533",
   "metadata": {},
   "outputs": [
    {
     "name": "stderr",
     "output_type": "stream",
     "text": [
      "WARNING:absl:Compiled the loaded model, but the compiled metrics have yet to be built. `model.compile_metrics` will be empty until you train or evaluate the model.\n"
     ]
    },
    {
     "name": "stdout",
     "output_type": "stream",
     "text": [
      "Modelo cargado con éxito\n",
      "\u001b[1m1/1\u001b[0m \u001b[32m━━━━━━━━━━━━━━━━━━━━\u001b[0m\u001b[37m\u001b[0m \u001b[1m0s\u001b[0m 52ms/step\n",
      "Probabilidad de predicción para el ejemplo específico: 0.055293698\n",
      "Predicción para el ejemplo específico: 0\n"
     ]
    }
   ],
   "source": [
    "import tensorflow as tf\n",
    "import pandas as pd\n",
    "\n",
    "# Ruta del archivo del modelo guardado\n",
    "model_filename = '/home/julio/jupyter_files/diabete/nn_model.h5'\n",
    "\n",
    "# Cargar el modelo desde el archivo\n",
    "loaded_model = tf.keras.models.load_model(model_filename)\n",
    "print(\"Modelo cargado con éxito\")\n",
    "\n",
    "# Datos del ejemplo específico para prueba (con 7 características)\n",
    "example_data = pd.DataFrame({\n",
    "    'Pregnancies': [6],\n",
    "    'Glucose': [148],\n",
    "    'BloodPressure': [72],\n",
    "    'SkinThickness': [35],\n",
    "    'Insulin': [0],\n",
    "    'BMI': [33.6],\n",
    "    'DiabetesPedigreeFunction': [0.627]\n",
    "    # Nota: 'Age' ha sido eliminada para que haya 7 características\n",
    "})\n",
    "\n",
    "# Hacer predicción con el modelo cargado\n",
    "example_prediction_probs = loaded_model.predict(example_data)\n",
    "example_prediction = (example_prediction_probs > 0.5).astype(int)\n",
    "\n",
    "print(\"Probabilidad de predicción para el ejemplo específico:\", example_prediction_probs[0][0])\n",
    "print(\"Predicción para el ejemplo específico:\", example_prediction[0][0])\n"
   ]
  },
  {
   "cell_type": "markdown",
   "id": "c6200ce6-b0f7-4000-9422-ca5245618cbc",
   "metadata": {},
   "source": [
    "<H2>Grafico Final</H2>"
   ]
  },
  {
   "cell_type": "code",
   "execution_count": 54,
   "id": "b8d5b290-ccbb-4f4c-a8fe-27c599beac3f",
   "metadata": {},
   "outputs": [],
   "source": [
    "data = {\n",
    "    '': ['Accuracy','Score (grid search)'],\n",
    "    'Random Forest': [SVM_accuracy, RF_score],\n",
    "    'SVM': [RF_accuracy, RF_score],\n",
    "    'RNS': [RNS_accuracy ,None ]\n",
    "}\n",
    "\n",
    "df = pd.DataFrame(data)"
   ]
  },
  {
   "cell_type": "code",
   "execution_count": 55,
   "id": "a383ee07-d7cd-405a-9148-b7361ddeb3db",
   "metadata": {},
   "outputs": [
    {
     "data": {
      "text/html": [
       "<div>\n",
       "<style scoped>\n",
       "    .dataframe tbody tr th:only-of-type {\n",
       "        vertical-align: middle;\n",
       "    }\n",
       "\n",
       "    .dataframe tbody tr th {\n",
       "        vertical-align: top;\n",
       "    }\n",
       "\n",
       "    .dataframe thead th {\n",
       "        text-align: right;\n",
       "    }\n",
       "</style>\n",
       "<table border=\"1\" class=\"dataframe\">\n",
       "  <thead>\n",
       "    <tr style=\"text-align: right;\">\n",
       "      <th></th>\n",
       "      <th></th>\n",
       "      <th>Random Forest</th>\n",
       "      <th>SVM</th>\n",
       "      <th>RNS</th>\n",
       "    </tr>\n",
       "  </thead>\n",
       "  <tbody>\n",
       "    <tr>\n",
       "      <th>0</th>\n",
       "      <td>Accuracy</td>\n",
       "      <td>0.662338</td>\n",
       "      <td>0.701299</td>\n",
       "      <td>0.766234</td>\n",
       "    </tr>\n",
       "    <tr>\n",
       "      <th>1</th>\n",
       "      <td>Score (grid search)</td>\n",
       "      <td>0.746185</td>\n",
       "      <td>0.746185</td>\n",
       "      <td>NaN</td>\n",
       "    </tr>\n",
       "  </tbody>\n",
       "</table>\n",
       "</div>"
      ],
      "text/plain": [
       "                        Random Forest       SVM       RNS\n",
       "0             Accuracy       0.662338  0.701299  0.766234\n",
       "1  Score (grid search)       0.746185  0.746185       NaN"
      ]
     },
     "execution_count": 55,
     "metadata": {},
     "output_type": "execute_result"
    }
   ],
   "source": [
    "df"
   ]
  },
  {
   "cell_type": "code",
   "execution_count": 56,
   "id": "0eaf79e1-9419-4ef0-92cd-3b0eaf3bcf58",
   "metadata": {},
   "outputs": [
    {
     "data": {
      "image/png": "[encoded data removed]",
      "text/plain": [
       "<Figure size 800x200 with 1 Axes>"
      ]
     },
     "metadata": {},
     "output_type": "display_data"
    }
   ],
   "source": [
    "import matplotlib.pyplot as plt\n",
    "# Configurar el tamaño de la figura\n",
    "plt.figure(figsize=(8, 2))\n",
    "\n",
    "# Crear una tabla a partir del DataFrame\n",
    "ax = plt.gca()\n",
    "ax.axis('off')\n",
    "table = plt.table(cellText=df.values, colLabels=df.columns, cellLoc='center', loc='center')\n",
    "\n",
    "# Guardar la tabla como una imagen PNG\n",
    "plt.savefig('DiabetesML.png', bbox_inches='tight', pad_inches=0.1)\n",
    "\n",
    "plt.show()"
   ]
  },
  {
   "cell_type": "code",
   "execution_count": null,
   "id": "edb32b60-7751-4129-bead-3da31e882b8d",
   "metadata": {},
   "outputs": [],
   "source": []
  }
 ],
 "metadata": {
  "kernelspec": {
   "display_name": "Python 3 (ipykernel)",
   "language": "python",
   "name": "python3"
  },
  "language_info": {
   "codemirror_mode": {
    "name": "ipython",
    "version": 3
   },
   "file_extension": ".py",
   "mimetype": "text/x-python",
   "name": "python",
   "nbconvert_exporter": "python",
   "pygments_lexer": "ipython3",
   "version": "3.10.12"
  }
 },
 "nbformat": 4,
 "nbformat_minor": 5
}
